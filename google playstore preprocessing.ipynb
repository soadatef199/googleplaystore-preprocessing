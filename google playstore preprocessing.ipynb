{
 "cells": [
  {
   "cell_type": "markdown",
   "id": "9d7bcfbe-bd35-4694-bb26-9243704d051a",
   "metadata": {},
   "source": [
    "### Google play store (EDA)"
   ]
  },
  {
   "cell_type": "markdown",
   "id": "f463064e-e050-4bfe-95a8-7b8935f21c9c",
   "metadata": {},
   "source": [
    "### Import libraries"
   ]
  },
  {
   "cell_type": "code",
   "execution_count": 215,
   "id": "1cb7f5a6-8d09-492f-ad4c-44c708c3ce63",
   "metadata": {},
   "outputs": [],
   "source": [
    "import pandas as pd\n",
    "import numpy as np\n",
    "import matplotlib.pyplot as plt\n",
    "import seaborn as sns"
   ]
  },
  {
   "cell_type": "code",
   "execution_count": 217,
   "id": "70bf0b2c-db15-4cde-b142-0c511b32fc55",
   "metadata": {},
   "outputs": [
    {
     "data": {
      "text/html": [
       "<div>\n",
       "<style scoped>\n",
       "    .dataframe tbody tr th:only-of-type {\n",
       "        vertical-align: middle;\n",
       "    }\n",
       "\n",
       "    .dataframe tbody tr th {\n",
       "        vertical-align: top;\n",
       "    }\n",
       "\n",
       "    .dataframe thead th {\n",
       "        text-align: right;\n",
       "    }\n",
       "</style>\n",
       "<table border=\"1\" class=\"dataframe\">\n",
       "  <thead>\n",
       "    <tr style=\"text-align: right;\">\n",
       "      <th></th>\n",
       "      <th>App</th>\n",
       "      <th>Category</th>\n",
       "      <th>Rating</th>\n",
       "      <th>Reviews</th>\n",
       "      <th>Size</th>\n",
       "      <th>Installs</th>\n",
       "      <th>Type</th>\n",
       "      <th>Price</th>\n",
       "      <th>Content Rating</th>\n",
       "      <th>Genres</th>\n",
       "      <th>Last Updated</th>\n",
       "      <th>Current Ver</th>\n",
       "      <th>Android Ver</th>\n",
       "    </tr>\n",
       "  </thead>\n",
       "  <tbody>\n",
       "    <tr>\n",
       "      <th>0</th>\n",
       "      <td>Photo Editor &amp; Candy Camera &amp; Grid &amp; ScrapBook</td>\n",
       "      <td>ART_AND_DESIGN</td>\n",
       "      <td>4.1</td>\n",
       "      <td>159</td>\n",
       "      <td>19M</td>\n",
       "      <td>10,000+</td>\n",
       "      <td>Free</td>\n",
       "      <td>0</td>\n",
       "      <td>Everyone</td>\n",
       "      <td>Art &amp; Design</td>\n",
       "      <td>January 7, 2018</td>\n",
       "      <td>1.0.0</td>\n",
       "      <td>4.0.3 and up</td>\n",
       "    </tr>\n",
       "    <tr>\n",
       "      <th>1</th>\n",
       "      <td>Coloring book moana</td>\n",
       "      <td>ART_AND_DESIGN</td>\n",
       "      <td>3.9</td>\n",
       "      <td>967</td>\n",
       "      <td>14M</td>\n",
       "      <td>500,000+</td>\n",
       "      <td>Free</td>\n",
       "      <td>0</td>\n",
       "      <td>Everyone</td>\n",
       "      <td>Art &amp; Design;Pretend Play</td>\n",
       "      <td>January 15, 2018</td>\n",
       "      <td>2.0.0</td>\n",
       "      <td>4.0.3 and up</td>\n",
       "    </tr>\n",
       "    <tr>\n",
       "      <th>2</th>\n",
       "      <td>U Launcher Lite – FREE Live Cool Themes, Hide ...</td>\n",
       "      <td>ART_AND_DESIGN</td>\n",
       "      <td>4.7</td>\n",
       "      <td>87510</td>\n",
       "      <td>8.7M</td>\n",
       "      <td>5,000,000+</td>\n",
       "      <td>Free</td>\n",
       "      <td>0</td>\n",
       "      <td>Everyone</td>\n",
       "      <td>Art &amp; Design</td>\n",
       "      <td>August 1, 2018</td>\n",
       "      <td>1.2.4</td>\n",
       "      <td>4.0.3 and up</td>\n",
       "    </tr>\n",
       "    <tr>\n",
       "      <th>3</th>\n",
       "      <td>Sketch - Draw &amp; Paint</td>\n",
       "      <td>ART_AND_DESIGN</td>\n",
       "      <td>4.5</td>\n",
       "      <td>215644</td>\n",
       "      <td>25M</td>\n",
       "      <td>50,000,000+</td>\n",
       "      <td>Free</td>\n",
       "      <td>0</td>\n",
       "      <td>Teen</td>\n",
       "      <td>Art &amp; Design</td>\n",
       "      <td>June 8, 2018</td>\n",
       "      <td>Varies with device</td>\n",
       "      <td>4.2 and up</td>\n",
       "    </tr>\n",
       "    <tr>\n",
       "      <th>4</th>\n",
       "      <td>Pixel Draw - Number Art Coloring Book</td>\n",
       "      <td>ART_AND_DESIGN</td>\n",
       "      <td>4.3</td>\n",
       "      <td>967</td>\n",
       "      <td>2.8M</td>\n",
       "      <td>100,000+</td>\n",
       "      <td>Free</td>\n",
       "      <td>0</td>\n",
       "      <td>Everyone</td>\n",
       "      <td>Art &amp; Design;Creativity</td>\n",
       "      <td>June 20, 2018</td>\n",
       "      <td>1.1</td>\n",
       "      <td>4.4 and up</td>\n",
       "    </tr>\n",
       "    <tr>\n",
       "      <th>5</th>\n",
       "      <td>Paper flowers instructions</td>\n",
       "      <td>ART_AND_DESIGN</td>\n",
       "      <td>4.4</td>\n",
       "      <td>167</td>\n",
       "      <td>5.6M</td>\n",
       "      <td>50,000+</td>\n",
       "      <td>Free</td>\n",
       "      <td>0</td>\n",
       "      <td>Everyone</td>\n",
       "      <td>Art &amp; Design</td>\n",
       "      <td>March 26, 2017</td>\n",
       "      <td>1.0</td>\n",
       "      <td>2.3 and up</td>\n",
       "    </tr>\n",
       "    <tr>\n",
       "      <th>6</th>\n",
       "      <td>Smoke Effect Photo Maker - Smoke Editor</td>\n",
       "      <td>ART_AND_DESIGN</td>\n",
       "      <td>3.8</td>\n",
       "      <td>178</td>\n",
       "      <td>19M</td>\n",
       "      <td>50,000+</td>\n",
       "      <td>Free</td>\n",
       "      <td>0</td>\n",
       "      <td>Everyone</td>\n",
       "      <td>Art &amp; Design</td>\n",
       "      <td>April 26, 2018</td>\n",
       "      <td>1.1</td>\n",
       "      <td>4.0.3 and up</td>\n",
       "    </tr>\n",
       "    <tr>\n",
       "      <th>7</th>\n",
       "      <td>Infinite Painter</td>\n",
       "      <td>ART_AND_DESIGN</td>\n",
       "      <td>4.1</td>\n",
       "      <td>36815</td>\n",
       "      <td>29M</td>\n",
       "      <td>1,000,000+</td>\n",
       "      <td>Free</td>\n",
       "      <td>0</td>\n",
       "      <td>Everyone</td>\n",
       "      <td>Art &amp; Design</td>\n",
       "      <td>June 14, 2018</td>\n",
       "      <td>6.1.61.1</td>\n",
       "      <td>4.2 and up</td>\n",
       "    </tr>\n",
       "    <tr>\n",
       "      <th>8</th>\n",
       "      <td>Garden Coloring Book</td>\n",
       "      <td>ART_AND_DESIGN</td>\n",
       "      <td>4.4</td>\n",
       "      <td>13791</td>\n",
       "      <td>33M</td>\n",
       "      <td>1,000,000+</td>\n",
       "      <td>Free</td>\n",
       "      <td>0</td>\n",
       "      <td>Everyone</td>\n",
       "      <td>Art &amp; Design</td>\n",
       "      <td>September 20, 2017</td>\n",
       "      <td>2.9.2</td>\n",
       "      <td>3.0 and up</td>\n",
       "    </tr>\n",
       "    <tr>\n",
       "      <th>9</th>\n",
       "      <td>Kids Paint Free - Drawing Fun</td>\n",
       "      <td>ART_AND_DESIGN</td>\n",
       "      <td>4.7</td>\n",
       "      <td>121</td>\n",
       "      <td>3.1M</td>\n",
       "      <td>10,000+</td>\n",
       "      <td>Free</td>\n",
       "      <td>0</td>\n",
       "      <td>Everyone</td>\n",
       "      <td>Art &amp; Design;Creativity</td>\n",
       "      <td>July 3, 2018</td>\n",
       "      <td>2.8</td>\n",
       "      <td>4.0.3 and up</td>\n",
       "    </tr>\n",
       "  </tbody>\n",
       "</table>\n",
       "</div>"
      ],
      "text/plain": [
       "                                                 App        Category  Rating  \\\n",
       "0     Photo Editor & Candy Camera & Grid & ScrapBook  ART_AND_DESIGN     4.1   \n",
       "1                                Coloring book moana  ART_AND_DESIGN     3.9   \n",
       "2  U Launcher Lite – FREE Live Cool Themes, Hide ...  ART_AND_DESIGN     4.7   \n",
       "3                              Sketch - Draw & Paint  ART_AND_DESIGN     4.5   \n",
       "4              Pixel Draw - Number Art Coloring Book  ART_AND_DESIGN     4.3   \n",
       "5                         Paper flowers instructions  ART_AND_DESIGN     4.4   \n",
       "6            Smoke Effect Photo Maker - Smoke Editor  ART_AND_DESIGN     3.8   \n",
       "7                                   Infinite Painter  ART_AND_DESIGN     4.1   \n",
       "8                               Garden Coloring Book  ART_AND_DESIGN     4.4   \n",
       "9                      Kids Paint Free - Drawing Fun  ART_AND_DESIGN     4.7   \n",
       "\n",
       "  Reviews  Size     Installs  Type Price Content Rating  \\\n",
       "0     159   19M      10,000+  Free     0       Everyone   \n",
       "1     967   14M     500,000+  Free     0       Everyone   \n",
       "2   87510  8.7M   5,000,000+  Free     0       Everyone   \n",
       "3  215644   25M  50,000,000+  Free     0           Teen   \n",
       "4     967  2.8M     100,000+  Free     0       Everyone   \n",
       "5     167  5.6M      50,000+  Free     0       Everyone   \n",
       "6     178   19M      50,000+  Free     0       Everyone   \n",
       "7   36815   29M   1,000,000+  Free     0       Everyone   \n",
       "8   13791   33M   1,000,000+  Free     0       Everyone   \n",
       "9     121  3.1M      10,000+  Free     0       Everyone   \n",
       "\n",
       "                      Genres        Last Updated         Current Ver  \\\n",
       "0               Art & Design     January 7, 2018               1.0.0   \n",
       "1  Art & Design;Pretend Play    January 15, 2018               2.0.0   \n",
       "2               Art & Design      August 1, 2018               1.2.4   \n",
       "3               Art & Design        June 8, 2018  Varies with device   \n",
       "4    Art & Design;Creativity       June 20, 2018                 1.1   \n",
       "5               Art & Design      March 26, 2017                 1.0   \n",
       "6               Art & Design      April 26, 2018                 1.1   \n",
       "7               Art & Design       June 14, 2018            6.1.61.1   \n",
       "8               Art & Design  September 20, 2017               2.9.2   \n",
       "9    Art & Design;Creativity        July 3, 2018                 2.8   \n",
       "\n",
       "    Android Ver  \n",
       "0  4.0.3 and up  \n",
       "1  4.0.3 and up  \n",
       "2  4.0.3 and up  \n",
       "3    4.2 and up  \n",
       "4    4.4 and up  \n",
       "5    2.3 and up  \n",
       "6  4.0.3 and up  \n",
       "7    4.2 and up  \n",
       "8    3.0 and up  \n",
       "9  4.0.3 and up  "
      ]
     },
     "execution_count": 217,
     "metadata": {},
     "output_type": "execute_result"
    }
   ],
   "source": [
    "df=pd.read_csv(\"googleplaystore.csv\")\n",
    "df.head(10)"
   ]
  },
  {
   "cell_type": "code",
   "execution_count": 3,
   "id": "f7af0ae5-efbe-4e63-9e73-e4cd1630305d",
   "metadata": {},
   "outputs": [
    {
     "name": "stdout",
     "output_type": "stream",
     "text": [
      "<class 'pandas.core.frame.DataFrame'>\n",
      "RangeIndex: 10841 entries, 0 to 10840\n",
      "Data columns (total 13 columns):\n",
      " #   Column          Non-Null Count  Dtype  \n",
      "---  ------          --------------  -----  \n",
      " 0   App             10841 non-null  object \n",
      " 1   Category        10841 non-null  object \n",
      " 2   Rating          9367 non-null   float64\n",
      " 3   Reviews         10841 non-null  object \n",
      " 4   Size            10841 non-null  object \n",
      " 5   Installs        10841 non-null  object \n",
      " 6   Type            10840 non-null  object \n",
      " 7   Price           10841 non-null  object \n",
      " 8   Content Rating  10840 non-null  object \n",
      " 9   Genres          10841 non-null  object \n",
      " 10  Last Updated    10841 non-null  object \n",
      " 11  Current Ver     10833 non-null  object \n",
      " 12  Android Ver     10838 non-null  object \n",
      "dtypes: float64(1), object(12)\n",
      "memory usage: 1.1+ MB\n"
     ]
    }
   ],
   "source": [
    "df.info()"
   ]
  },
  {
   "cell_type": "code",
   "execution_count": 4,
   "id": "c215f756-94ac-49b2-ab77-34e04170410e",
   "metadata": {},
   "outputs": [
    {
     "data": {
      "text/plain": [
       "(10841, 13)"
      ]
     },
     "execution_count": 4,
     "metadata": {},
     "output_type": "execute_result"
    }
   ],
   "source": [
    "df.shape"
   ]
  },
  {
   "cell_type": "code",
   "execution_count": 5,
   "id": "f99d84b9-3a73-4019-b129-abd3bdb8c0e0",
   "metadata": {},
   "outputs": [
    {
     "data": {
      "text/plain": [
       "Index(['App', 'Category', 'Rating', 'Reviews', 'Size', 'Installs', 'Type',\n",
       "       'Price', 'Content Rating', 'Genres', 'Last Updated', 'Current Ver',\n",
       "       'Android Ver'],\n",
       "      dtype='object')"
      ]
     },
     "execution_count": 5,
     "metadata": {},
     "output_type": "execute_result"
    }
   ],
   "source": [
    "df.columns\n"
   ]
  },
  {
   "cell_type": "code",
   "execution_count": 6,
   "id": "9b04b8ce-97e0-4a8b-be1b-82737bb87275",
   "metadata": {},
   "outputs": [
    {
     "data": {
      "text/plain": [
       "App                  0\n",
       "Category             0\n",
       "Rating            1474\n",
       "Reviews              0\n",
       "Size                 0\n",
       "Installs             0\n",
       "Type                 1\n",
       "Price                0\n",
       "Content Rating       1\n",
       "Genres               0\n",
       "Last Updated         0\n",
       "Current Ver          8\n",
       "Android Ver          3\n",
       "dtype: int64"
      ]
     },
     "execution_count": 6,
     "metadata": {},
     "output_type": "execute_result"
    }
   ],
   "source": [
    "df.isnull().sum()"
   ]
  },
  {
   "cell_type": "markdown",
   "id": "077653dd-14fc-4ed6-b538-72e9e8dade3e",
   "metadata": {
    "jp-MarkdownHeadingCollapsed": true
   },
   "source": [
    "### تنظيف الداتا"
   ]
  },
  {
   "cell_type": "markdown",
   "id": "3793f343-6e16-48cd-b569-248a3fd6b58f",
   "metadata": {},
   "source": [
    "### 1 Fix rating (هبدل كل كاتجوري بمتوسط الرتينج بتاعها)"
   ]
  },
  {
   "cell_type": "code",
   "execution_count": 9,
   "id": "c97b96f1-e8f1-4c09-abaa-b6dff056b53b",
   "metadata": {},
   "outputs": [],
   "source": [
    "df[\"Rating\"] = df.groupby(\"Category\")[\"Rating\"].transform(lambda x: x.fillna(x.mean()))"
   ]
  },
  {
   "cell_type": "code",
   "execution_count": 10,
   "id": "e3add5ea-514c-4f65-a8c5-f00d4ab78508",
   "metadata": {},
   "outputs": [
    {
     "data": {
      "text/html": [
       "<div>\n",
       "<style scoped>\n",
       "    .dataframe tbody tr th:only-of-type {\n",
       "        vertical-align: middle;\n",
       "    }\n",
       "\n",
       "    .dataframe tbody tr th {\n",
       "        vertical-align: top;\n",
       "    }\n",
       "\n",
       "    .dataframe thead th {\n",
       "        text-align: right;\n",
       "    }\n",
       "</style>\n",
       "<table border=\"1\" class=\"dataframe\">\n",
       "  <thead>\n",
       "    <tr style=\"text-align: right;\">\n",
       "      <th></th>\n",
       "      <th>App</th>\n",
       "      <th>Category</th>\n",
       "      <th>Rating</th>\n",
       "      <th>Reviews</th>\n",
       "      <th>Size</th>\n",
       "      <th>Installs</th>\n",
       "      <th>Type</th>\n",
       "      <th>Price</th>\n",
       "      <th>Content Rating</th>\n",
       "      <th>Genres</th>\n",
       "      <th>Last Updated</th>\n",
       "      <th>Current Ver</th>\n",
       "      <th>Android Ver</th>\n",
       "    </tr>\n",
       "  </thead>\n",
       "  <tbody>\n",
       "    <tr>\n",
       "      <th>0</th>\n",
       "      <td>Photo Editor &amp; Candy Camera &amp; Grid &amp; ScrapBook</td>\n",
       "      <td>ART_AND_DESIGN</td>\n",
       "      <td>4.1</td>\n",
       "      <td>159</td>\n",
       "      <td>19M</td>\n",
       "      <td>10,000+</td>\n",
       "      <td>Free</td>\n",
       "      <td>0</td>\n",
       "      <td>Everyone</td>\n",
       "      <td>Art &amp; Design</td>\n",
       "      <td>January 7, 2018</td>\n",
       "      <td>1.0.0</td>\n",
       "      <td>4.0.3 and up</td>\n",
       "    </tr>\n",
       "    <tr>\n",
       "      <th>1</th>\n",
       "      <td>Coloring book moana</td>\n",
       "      <td>ART_AND_DESIGN</td>\n",
       "      <td>3.9</td>\n",
       "      <td>967</td>\n",
       "      <td>14M</td>\n",
       "      <td>500,000+</td>\n",
       "      <td>Free</td>\n",
       "      <td>0</td>\n",
       "      <td>Everyone</td>\n",
       "      <td>Art &amp; Design;Pretend Play</td>\n",
       "      <td>January 15, 2018</td>\n",
       "      <td>2.0.0</td>\n",
       "      <td>4.0.3 and up</td>\n",
       "    </tr>\n",
       "    <tr>\n",
       "      <th>2</th>\n",
       "      <td>U Launcher Lite – FREE Live Cool Themes, Hide ...</td>\n",
       "      <td>ART_AND_DESIGN</td>\n",
       "      <td>4.7</td>\n",
       "      <td>87510</td>\n",
       "      <td>8.7M</td>\n",
       "      <td>5,000,000+</td>\n",
       "      <td>Free</td>\n",
       "      <td>0</td>\n",
       "      <td>Everyone</td>\n",
       "      <td>Art &amp; Design</td>\n",
       "      <td>August 1, 2018</td>\n",
       "      <td>1.2.4</td>\n",
       "      <td>4.0.3 and up</td>\n",
       "    </tr>\n",
       "    <tr>\n",
       "      <th>3</th>\n",
       "      <td>Sketch - Draw &amp; Paint</td>\n",
       "      <td>ART_AND_DESIGN</td>\n",
       "      <td>4.5</td>\n",
       "      <td>215644</td>\n",
       "      <td>25M</td>\n",
       "      <td>50,000,000+</td>\n",
       "      <td>Free</td>\n",
       "      <td>0</td>\n",
       "      <td>Teen</td>\n",
       "      <td>Art &amp; Design</td>\n",
       "      <td>June 8, 2018</td>\n",
       "      <td>Varies with device</td>\n",
       "      <td>4.2 and up</td>\n",
       "    </tr>\n",
       "    <tr>\n",
       "      <th>4</th>\n",
       "      <td>Pixel Draw - Number Art Coloring Book</td>\n",
       "      <td>ART_AND_DESIGN</td>\n",
       "      <td>4.3</td>\n",
       "      <td>967</td>\n",
       "      <td>2.8M</td>\n",
       "      <td>100,000+</td>\n",
       "      <td>Free</td>\n",
       "      <td>0</td>\n",
       "      <td>Everyone</td>\n",
       "      <td>Art &amp; Design;Creativity</td>\n",
       "      <td>June 20, 2018</td>\n",
       "      <td>1.1</td>\n",
       "      <td>4.4 and up</td>\n",
       "    </tr>\n",
       "    <tr>\n",
       "      <th>5</th>\n",
       "      <td>Paper flowers instructions</td>\n",
       "      <td>ART_AND_DESIGN</td>\n",
       "      <td>4.4</td>\n",
       "      <td>167</td>\n",
       "      <td>5.6M</td>\n",
       "      <td>50,000+</td>\n",
       "      <td>Free</td>\n",
       "      <td>0</td>\n",
       "      <td>Everyone</td>\n",
       "      <td>Art &amp; Design</td>\n",
       "      <td>March 26, 2017</td>\n",
       "      <td>1.0</td>\n",
       "      <td>2.3 and up</td>\n",
       "    </tr>\n",
       "    <tr>\n",
       "      <th>6</th>\n",
       "      <td>Smoke Effect Photo Maker - Smoke Editor</td>\n",
       "      <td>ART_AND_DESIGN</td>\n",
       "      <td>3.8</td>\n",
       "      <td>178</td>\n",
       "      <td>19M</td>\n",
       "      <td>50,000+</td>\n",
       "      <td>Free</td>\n",
       "      <td>0</td>\n",
       "      <td>Everyone</td>\n",
       "      <td>Art &amp; Design</td>\n",
       "      <td>April 26, 2018</td>\n",
       "      <td>1.1</td>\n",
       "      <td>4.0.3 and up</td>\n",
       "    </tr>\n",
       "    <tr>\n",
       "      <th>7</th>\n",
       "      <td>Infinite Painter</td>\n",
       "      <td>ART_AND_DESIGN</td>\n",
       "      <td>4.1</td>\n",
       "      <td>36815</td>\n",
       "      <td>29M</td>\n",
       "      <td>1,000,000+</td>\n",
       "      <td>Free</td>\n",
       "      <td>0</td>\n",
       "      <td>Everyone</td>\n",
       "      <td>Art &amp; Design</td>\n",
       "      <td>June 14, 2018</td>\n",
       "      <td>6.1.61.1</td>\n",
       "      <td>4.2 and up</td>\n",
       "    </tr>\n",
       "    <tr>\n",
       "      <th>8</th>\n",
       "      <td>Garden Coloring Book</td>\n",
       "      <td>ART_AND_DESIGN</td>\n",
       "      <td>4.4</td>\n",
       "      <td>13791</td>\n",
       "      <td>33M</td>\n",
       "      <td>1,000,000+</td>\n",
       "      <td>Free</td>\n",
       "      <td>0</td>\n",
       "      <td>Everyone</td>\n",
       "      <td>Art &amp; Design</td>\n",
       "      <td>September 20, 2017</td>\n",
       "      <td>2.9.2</td>\n",
       "      <td>3.0 and up</td>\n",
       "    </tr>\n",
       "    <tr>\n",
       "      <th>9</th>\n",
       "      <td>Kids Paint Free - Drawing Fun</td>\n",
       "      <td>ART_AND_DESIGN</td>\n",
       "      <td>4.7</td>\n",
       "      <td>121</td>\n",
       "      <td>3.1M</td>\n",
       "      <td>10,000+</td>\n",
       "      <td>Free</td>\n",
       "      <td>0</td>\n",
       "      <td>Everyone</td>\n",
       "      <td>Art &amp; Design;Creativity</td>\n",
       "      <td>July 3, 2018</td>\n",
       "      <td>2.8</td>\n",
       "      <td>4.0.3 and up</td>\n",
       "    </tr>\n",
       "    <tr>\n",
       "      <th>10</th>\n",
       "      <td>Text on Photo - Fonteee</td>\n",
       "      <td>ART_AND_DESIGN</td>\n",
       "      <td>4.4</td>\n",
       "      <td>13880</td>\n",
       "      <td>28M</td>\n",
       "      <td>1,000,000+</td>\n",
       "      <td>Free</td>\n",
       "      <td>0</td>\n",
       "      <td>Everyone</td>\n",
       "      <td>Art &amp; Design</td>\n",
       "      <td>October 27, 2017</td>\n",
       "      <td>1.0.4</td>\n",
       "      <td>4.1 and up</td>\n",
       "    </tr>\n",
       "    <tr>\n",
       "      <th>11</th>\n",
       "      <td>Name Art Photo Editor - Focus n Filters</td>\n",
       "      <td>ART_AND_DESIGN</td>\n",
       "      <td>4.4</td>\n",
       "      <td>8788</td>\n",
       "      <td>12M</td>\n",
       "      <td>1,000,000+</td>\n",
       "      <td>Free</td>\n",
       "      <td>0</td>\n",
       "      <td>Everyone</td>\n",
       "      <td>Art &amp; Design</td>\n",
       "      <td>July 31, 2018</td>\n",
       "      <td>1.0.15</td>\n",
       "      <td>4.0 and up</td>\n",
       "    </tr>\n",
       "    <tr>\n",
       "      <th>12</th>\n",
       "      <td>Tattoo Name On My Photo Editor</td>\n",
       "      <td>ART_AND_DESIGN</td>\n",
       "      <td>4.2</td>\n",
       "      <td>44829</td>\n",
       "      <td>20M</td>\n",
       "      <td>10,000,000+</td>\n",
       "      <td>Free</td>\n",
       "      <td>0</td>\n",
       "      <td>Teen</td>\n",
       "      <td>Art &amp; Design</td>\n",
       "      <td>April 2, 2018</td>\n",
       "      <td>3.8</td>\n",
       "      <td>4.1 and up</td>\n",
       "    </tr>\n",
       "    <tr>\n",
       "      <th>13</th>\n",
       "      <td>Mandala Coloring Book</td>\n",
       "      <td>ART_AND_DESIGN</td>\n",
       "      <td>4.6</td>\n",
       "      <td>4326</td>\n",
       "      <td>21M</td>\n",
       "      <td>100,000+</td>\n",
       "      <td>Free</td>\n",
       "      <td>0</td>\n",
       "      <td>Everyone</td>\n",
       "      <td>Art &amp; Design</td>\n",
       "      <td>June 26, 2018</td>\n",
       "      <td>1.0.4</td>\n",
       "      <td>4.4 and up</td>\n",
       "    </tr>\n",
       "    <tr>\n",
       "      <th>14</th>\n",
       "      <td>3D Color Pixel by Number - Sandbox Art Coloring</td>\n",
       "      <td>ART_AND_DESIGN</td>\n",
       "      <td>4.4</td>\n",
       "      <td>1518</td>\n",
       "      <td>37M</td>\n",
       "      <td>100,000+</td>\n",
       "      <td>Free</td>\n",
       "      <td>0</td>\n",
       "      <td>Everyone</td>\n",
       "      <td>Art &amp; Design</td>\n",
       "      <td>August 3, 2018</td>\n",
       "      <td>1.2.3</td>\n",
       "      <td>2.3 and up</td>\n",
       "    </tr>\n",
       "    <tr>\n",
       "      <th>15</th>\n",
       "      <td>Learn To Draw Kawaii Characters</td>\n",
       "      <td>ART_AND_DESIGN</td>\n",
       "      <td>3.2</td>\n",
       "      <td>55</td>\n",
       "      <td>2.7M</td>\n",
       "      <td>5,000+</td>\n",
       "      <td>Free</td>\n",
       "      <td>0</td>\n",
       "      <td>Everyone</td>\n",
       "      <td>Art &amp; Design</td>\n",
       "      <td>June 6, 2018</td>\n",
       "      <td>NaN</td>\n",
       "      <td>4.2 and up</td>\n",
       "    </tr>\n",
       "    <tr>\n",
       "      <th>16</th>\n",
       "      <td>Photo Designer - Write your name with shapes</td>\n",
       "      <td>ART_AND_DESIGN</td>\n",
       "      <td>4.7</td>\n",
       "      <td>3632</td>\n",
       "      <td>5.5M</td>\n",
       "      <td>500,000+</td>\n",
       "      <td>Free</td>\n",
       "      <td>0</td>\n",
       "      <td>Everyone</td>\n",
       "      <td>Art &amp; Design</td>\n",
       "      <td>July 31, 2018</td>\n",
       "      <td>3.1</td>\n",
       "      <td>4.1 and up</td>\n",
       "    </tr>\n",
       "    <tr>\n",
       "      <th>17</th>\n",
       "      <td>350 Diy Room Decor Ideas</td>\n",
       "      <td>ART_AND_DESIGN</td>\n",
       "      <td>4.5</td>\n",
       "      <td>27</td>\n",
       "      <td>17M</td>\n",
       "      <td>10,000+</td>\n",
       "      <td>Free</td>\n",
       "      <td>0</td>\n",
       "      <td>Everyone</td>\n",
       "      <td>Art &amp; Design</td>\n",
       "      <td>November 7, 2017</td>\n",
       "      <td>1.0</td>\n",
       "      <td>2.3 and up</td>\n",
       "    </tr>\n",
       "    <tr>\n",
       "      <th>18</th>\n",
       "      <td>FlipaClip - Cartoon animation</td>\n",
       "      <td>ART_AND_DESIGN</td>\n",
       "      <td>4.3</td>\n",
       "      <td>194216</td>\n",
       "      <td>39M</td>\n",
       "      <td>5,000,000+</td>\n",
       "      <td>Free</td>\n",
       "      <td>0</td>\n",
       "      <td>Everyone</td>\n",
       "      <td>Art &amp; Design</td>\n",
       "      <td>August 3, 2018</td>\n",
       "      <td>2.2.5</td>\n",
       "      <td>4.0.3 and up</td>\n",
       "    </tr>\n",
       "    <tr>\n",
       "      <th>19</th>\n",
       "      <td>ibis Paint X</td>\n",
       "      <td>ART_AND_DESIGN</td>\n",
       "      <td>4.6</td>\n",
       "      <td>224399</td>\n",
       "      <td>31M</td>\n",
       "      <td>10,000,000+</td>\n",
       "      <td>Free</td>\n",
       "      <td>0</td>\n",
       "      <td>Everyone</td>\n",
       "      <td>Art &amp; Design</td>\n",
       "      <td>July 30, 2018</td>\n",
       "      <td>5.5.4</td>\n",
       "      <td>4.1 and up</td>\n",
       "    </tr>\n",
       "  </tbody>\n",
       "</table>\n",
       "</div>"
      ],
      "text/plain": [
       "                                                  App        Category  Rating  \\\n",
       "0      Photo Editor & Candy Camera & Grid & ScrapBook  ART_AND_DESIGN     4.1   \n",
       "1                                 Coloring book moana  ART_AND_DESIGN     3.9   \n",
       "2   U Launcher Lite – FREE Live Cool Themes, Hide ...  ART_AND_DESIGN     4.7   \n",
       "3                               Sketch - Draw & Paint  ART_AND_DESIGN     4.5   \n",
       "4               Pixel Draw - Number Art Coloring Book  ART_AND_DESIGN     4.3   \n",
       "5                          Paper flowers instructions  ART_AND_DESIGN     4.4   \n",
       "6             Smoke Effect Photo Maker - Smoke Editor  ART_AND_DESIGN     3.8   \n",
       "7                                    Infinite Painter  ART_AND_DESIGN     4.1   \n",
       "8                                Garden Coloring Book  ART_AND_DESIGN     4.4   \n",
       "9                       Kids Paint Free - Drawing Fun  ART_AND_DESIGN     4.7   \n",
       "10                            Text on Photo - Fonteee  ART_AND_DESIGN     4.4   \n",
       "11            Name Art Photo Editor - Focus n Filters  ART_AND_DESIGN     4.4   \n",
       "12                     Tattoo Name On My Photo Editor  ART_AND_DESIGN     4.2   \n",
       "13                              Mandala Coloring Book  ART_AND_DESIGN     4.6   \n",
       "14    3D Color Pixel by Number - Sandbox Art Coloring  ART_AND_DESIGN     4.4   \n",
       "15                    Learn To Draw Kawaii Characters  ART_AND_DESIGN     3.2   \n",
       "16       Photo Designer - Write your name with shapes  ART_AND_DESIGN     4.7   \n",
       "17                           350 Diy Room Decor Ideas  ART_AND_DESIGN     4.5   \n",
       "18                      FlipaClip - Cartoon animation  ART_AND_DESIGN     4.3   \n",
       "19                                       ibis Paint X  ART_AND_DESIGN     4.6   \n",
       "\n",
       "   Reviews  Size     Installs  Type Price Content Rating  \\\n",
       "0      159   19M      10,000+  Free     0       Everyone   \n",
       "1      967   14M     500,000+  Free     0       Everyone   \n",
       "2    87510  8.7M   5,000,000+  Free     0       Everyone   \n",
       "3   215644   25M  50,000,000+  Free     0           Teen   \n",
       "4      967  2.8M     100,000+  Free     0       Everyone   \n",
       "5      167  5.6M      50,000+  Free     0       Everyone   \n",
       "6      178   19M      50,000+  Free     0       Everyone   \n",
       "7    36815   29M   1,000,000+  Free     0       Everyone   \n",
       "8    13791   33M   1,000,000+  Free     0       Everyone   \n",
       "9      121  3.1M      10,000+  Free     0       Everyone   \n",
       "10   13880   28M   1,000,000+  Free     0       Everyone   \n",
       "11    8788   12M   1,000,000+  Free     0       Everyone   \n",
       "12   44829   20M  10,000,000+  Free     0           Teen   \n",
       "13    4326   21M     100,000+  Free     0       Everyone   \n",
       "14    1518   37M     100,000+  Free     0       Everyone   \n",
       "15      55  2.7M       5,000+  Free     0       Everyone   \n",
       "16    3632  5.5M     500,000+  Free     0       Everyone   \n",
       "17      27   17M      10,000+  Free     0       Everyone   \n",
       "18  194216   39M   5,000,000+  Free     0       Everyone   \n",
       "19  224399   31M  10,000,000+  Free     0       Everyone   \n",
       "\n",
       "                       Genres        Last Updated         Current Ver  \\\n",
       "0                Art & Design     January 7, 2018               1.0.0   \n",
       "1   Art & Design;Pretend Play    January 15, 2018               2.0.0   \n",
       "2                Art & Design      August 1, 2018               1.2.4   \n",
       "3                Art & Design        June 8, 2018  Varies with device   \n",
       "4     Art & Design;Creativity       June 20, 2018                 1.1   \n",
       "5                Art & Design      March 26, 2017                 1.0   \n",
       "6                Art & Design      April 26, 2018                 1.1   \n",
       "7                Art & Design       June 14, 2018            6.1.61.1   \n",
       "8                Art & Design  September 20, 2017               2.9.2   \n",
       "9     Art & Design;Creativity        July 3, 2018                 2.8   \n",
       "10               Art & Design    October 27, 2017               1.0.4   \n",
       "11               Art & Design       July 31, 2018              1.0.15   \n",
       "12               Art & Design       April 2, 2018                 3.8   \n",
       "13               Art & Design       June 26, 2018               1.0.4   \n",
       "14               Art & Design      August 3, 2018               1.2.3   \n",
       "15               Art & Design        June 6, 2018                 NaN   \n",
       "16               Art & Design       July 31, 2018                 3.1   \n",
       "17               Art & Design    November 7, 2017                 1.0   \n",
       "18               Art & Design      August 3, 2018               2.2.5   \n",
       "19               Art & Design       July 30, 2018               5.5.4   \n",
       "\n",
       "     Android Ver  \n",
       "0   4.0.3 and up  \n",
       "1   4.0.3 and up  \n",
       "2   4.0.3 and up  \n",
       "3     4.2 and up  \n",
       "4     4.4 and up  \n",
       "5     2.3 and up  \n",
       "6   4.0.3 and up  \n",
       "7     4.2 and up  \n",
       "8     3.0 and up  \n",
       "9   4.0.3 and up  \n",
       "10    4.1 and up  \n",
       "11    4.0 and up  \n",
       "12    4.1 and up  \n",
       "13    4.4 and up  \n",
       "14    2.3 and up  \n",
       "15    4.2 and up  \n",
       "16    4.1 and up  \n",
       "17    2.3 and up  \n",
       "18  4.0.3 and up  \n",
       "19    4.1 and up  "
      ]
     },
     "execution_count": 10,
     "metadata": {},
     "output_type": "execute_result"
    }
   ],
   "source": [
    "df.head(20)"
   ]
  },
  {
   "cell_type": "markdown",
   "id": "c560a65d-0e43-492f-bd6c-5398d9bda639",
   "metadata": {},
   "source": [
    "### 2 Fix size (هوحد كل القيم للبايت)"
   ]
  },
  {
   "cell_type": "code",
   "execution_count": 12,
   "id": "0676ebc4-e730-4dbd-88ae-5f58ae83fff2",
   "metadata": {},
   "outputs": [],
   "source": [
    "def convert_size(size):\n",
    "    if isinstance( size, str):\n",
    "        if 'k' in size:\n",
    "            return float(size.replace('k',\"\")) * 1024\n",
    "        elif 'M' in size:\n",
    "            return float(size.replace('M', \"\")) * 1024 * 1024\n",
    "        elif 'Varies with device' in size:\n",
    "            return np.nan\n",
    "    return size"
   ]
  },
  {
   "cell_type": "code",
   "execution_count": 13,
   "id": "474a14db-cce9-47e4-a1be-29f93b0a0dcb",
   "metadata": {},
   "outputs": [],
   "source": [
    "df['Size']=df['Size'].apply(convert_size)"
   ]
  },
  {
   "cell_type": "code",
   "execution_count": 14,
   "id": "ab8a2dc5-c8d2-4fbf-896e-f0659584f657",
   "metadata": {},
   "outputs": [
    {
     "data": {
      "text/plain": [
       "0        19922944.0\n",
       "1        14680064.0\n",
       "2         9122611.2\n",
       "3        26214400.0\n",
       "4         2936012.8\n",
       "            ...    \n",
       "10836    55574528.0\n",
       "10837     3774873.6\n",
       "10838     9961472.0\n",
       "10839           NaN\n",
       "10840    19922944.0\n",
       "Name: Size, Length: 10841, dtype: object"
      ]
     },
     "execution_count": 14,
     "metadata": {},
     "output_type": "execute_result"
    }
   ],
   "source": [
    "df.Size"
   ]
  },
  {
   "cell_type": "code",
   "execution_count": 15,
   "id": "4e923b7a-3e1d-42ea-a8bf-56e16986608b",
   "metadata": {},
   "outputs": [
    {
     "data": {
      "text/html": [
       "<div>\n",
       "<style scoped>\n",
       "    .dataframe tbody tr th:only-of-type {\n",
       "        vertical-align: middle;\n",
       "    }\n",
       "\n",
       "    .dataframe tbody tr th {\n",
       "        vertical-align: top;\n",
       "    }\n",
       "\n",
       "    .dataframe thead th {\n",
       "        text-align: right;\n",
       "    }\n",
       "</style>\n",
       "<table border=\"1\" class=\"dataframe\">\n",
       "  <thead>\n",
       "    <tr style=\"text-align: right;\">\n",
       "      <th></th>\n",
       "      <th>App</th>\n",
       "      <th>Category</th>\n",
       "      <th>Rating</th>\n",
       "      <th>Reviews</th>\n",
       "      <th>Size</th>\n",
       "      <th>Installs</th>\n",
       "      <th>Type</th>\n",
       "      <th>Price</th>\n",
       "      <th>Content Rating</th>\n",
       "      <th>Genres</th>\n",
       "      <th>Last Updated</th>\n",
       "      <th>Current Ver</th>\n",
       "      <th>Android Ver</th>\n",
       "    </tr>\n",
       "  </thead>\n",
       "  <tbody>\n",
       "    <tr>\n",
       "      <th>10836</th>\n",
       "      <td>Sya9a Maroc - FR</td>\n",
       "      <td>FAMILY</td>\n",
       "      <td>4.500000</td>\n",
       "      <td>38</td>\n",
       "      <td>55574528.0</td>\n",
       "      <td>5,000+</td>\n",
       "      <td>Free</td>\n",
       "      <td>0</td>\n",
       "      <td>Everyone</td>\n",
       "      <td>Education</td>\n",
       "      <td>July 25, 2017</td>\n",
       "      <td>1.48</td>\n",
       "      <td>4.1 and up</td>\n",
       "    </tr>\n",
       "    <tr>\n",
       "      <th>10837</th>\n",
       "      <td>Fr. Mike Schmitz Audio Teachings</td>\n",
       "      <td>FAMILY</td>\n",
       "      <td>5.000000</td>\n",
       "      <td>4</td>\n",
       "      <td>3774873.6</td>\n",
       "      <td>100+</td>\n",
       "      <td>Free</td>\n",
       "      <td>0</td>\n",
       "      <td>Everyone</td>\n",
       "      <td>Education</td>\n",
       "      <td>July 6, 2018</td>\n",
       "      <td>1.0</td>\n",
       "      <td>4.1 and up</td>\n",
       "    </tr>\n",
       "    <tr>\n",
       "      <th>10838</th>\n",
       "      <td>Parkinson Exercices FR</td>\n",
       "      <td>MEDICAL</td>\n",
       "      <td>4.189143</td>\n",
       "      <td>3</td>\n",
       "      <td>9961472.0</td>\n",
       "      <td>1,000+</td>\n",
       "      <td>Free</td>\n",
       "      <td>0</td>\n",
       "      <td>Everyone</td>\n",
       "      <td>Medical</td>\n",
       "      <td>January 20, 2017</td>\n",
       "      <td>1.0</td>\n",
       "      <td>2.2 and up</td>\n",
       "    </tr>\n",
       "    <tr>\n",
       "      <th>10839</th>\n",
       "      <td>The SCP Foundation DB fr nn5n</td>\n",
       "      <td>BOOKS_AND_REFERENCE</td>\n",
       "      <td>4.500000</td>\n",
       "      <td>114</td>\n",
       "      <td>NaN</td>\n",
       "      <td>1,000+</td>\n",
       "      <td>Free</td>\n",
       "      <td>0</td>\n",
       "      <td>Mature 17+</td>\n",
       "      <td>Books &amp; Reference</td>\n",
       "      <td>January 19, 2015</td>\n",
       "      <td>Varies with device</td>\n",
       "      <td>Varies with device</td>\n",
       "    </tr>\n",
       "    <tr>\n",
       "      <th>10840</th>\n",
       "      <td>iHoroscope - 2018 Daily Horoscope &amp; Astrology</td>\n",
       "      <td>LIFESTYLE</td>\n",
       "      <td>4.500000</td>\n",
       "      <td>398307</td>\n",
       "      <td>19922944.0</td>\n",
       "      <td>10,000,000+</td>\n",
       "      <td>Free</td>\n",
       "      <td>0</td>\n",
       "      <td>Everyone</td>\n",
       "      <td>Lifestyle</td>\n",
       "      <td>July 25, 2018</td>\n",
       "      <td>Varies with device</td>\n",
       "      <td>Varies with device</td>\n",
       "    </tr>\n",
       "  </tbody>\n",
       "</table>\n",
       "</div>"
      ],
      "text/plain": [
       "                                                 App             Category  \\\n",
       "10836                               Sya9a Maroc - FR               FAMILY   \n",
       "10837               Fr. Mike Schmitz Audio Teachings               FAMILY   \n",
       "10838                         Parkinson Exercices FR              MEDICAL   \n",
       "10839                  The SCP Foundation DB fr nn5n  BOOKS_AND_REFERENCE   \n",
       "10840  iHoroscope - 2018 Daily Horoscope & Astrology            LIFESTYLE   \n",
       "\n",
       "         Rating Reviews        Size     Installs  Type Price Content Rating  \\\n",
       "10836  4.500000      38  55574528.0       5,000+  Free     0       Everyone   \n",
       "10837  5.000000       4   3774873.6         100+  Free     0       Everyone   \n",
       "10838  4.189143       3   9961472.0       1,000+  Free     0       Everyone   \n",
       "10839  4.500000     114         NaN       1,000+  Free     0     Mature 17+   \n",
       "10840  4.500000  398307  19922944.0  10,000,000+  Free     0       Everyone   \n",
       "\n",
       "                  Genres      Last Updated         Current Ver  \\\n",
       "10836          Education     July 25, 2017                1.48   \n",
       "10837          Education      July 6, 2018                 1.0   \n",
       "10838            Medical  January 20, 2017                 1.0   \n",
       "10839  Books & Reference  January 19, 2015  Varies with device   \n",
       "10840          Lifestyle     July 25, 2018  Varies with device   \n",
       "\n",
       "              Android Ver  \n",
       "10836          4.1 and up  \n",
       "10837          4.1 and up  \n",
       "10838          2.2 and up  \n",
       "10839  Varies with device  \n",
       "10840  Varies with device  "
      ]
     },
     "execution_count": 15,
     "metadata": {},
     "output_type": "execute_result"
    }
   ],
   "source": [
    "df.tail()"
   ]
  },
  {
   "cell_type": "code",
   "execution_count": 16,
   "id": "6f90504e-63a3-44d4-a8f6-aa33857ee782",
   "metadata": {},
   "outputs": [
    {
     "data": {
      "text/html": [
       "<div>\n",
       "<style scoped>\n",
       "    .dataframe tbody tr th:only-of-type {\n",
       "        vertical-align: middle;\n",
       "    }\n",
       "\n",
       "    .dataframe tbody tr th {\n",
       "        vertical-align: top;\n",
       "    }\n",
       "\n",
       "    .dataframe thead th {\n",
       "        text-align: right;\n",
       "    }\n",
       "</style>\n",
       "<table border=\"1\" class=\"dataframe\">\n",
       "  <thead>\n",
       "    <tr style=\"text-align: right;\">\n",
       "      <th></th>\n",
       "      <th>App</th>\n",
       "      <th>Category</th>\n",
       "      <th>Rating</th>\n",
       "      <th>Reviews</th>\n",
       "      <th>Size_in_Bytes</th>\n",
       "      <th>Installs</th>\n",
       "      <th>Type</th>\n",
       "      <th>Price</th>\n",
       "      <th>Content Rating</th>\n",
       "      <th>Genres</th>\n",
       "      <th>Last Updated</th>\n",
       "      <th>Current Ver</th>\n",
       "      <th>Android Ver</th>\n",
       "    </tr>\n",
       "  </thead>\n",
       "  <tbody>\n",
       "    <tr>\n",
       "      <th>0</th>\n",
       "      <td>Photo Editor &amp; Candy Camera &amp; Grid &amp; ScrapBook</td>\n",
       "      <td>ART_AND_DESIGN</td>\n",
       "      <td>4.1</td>\n",
       "      <td>159</td>\n",
       "      <td>19922944.0</td>\n",
       "      <td>10,000+</td>\n",
       "      <td>Free</td>\n",
       "      <td>0</td>\n",
       "      <td>Everyone</td>\n",
       "      <td>Art &amp; Design</td>\n",
       "      <td>January 7, 2018</td>\n",
       "      <td>1.0.0</td>\n",
       "      <td>4.0.3 and up</td>\n",
       "    </tr>\n",
       "    <tr>\n",
       "      <th>1</th>\n",
       "      <td>Coloring book moana</td>\n",
       "      <td>ART_AND_DESIGN</td>\n",
       "      <td>3.9</td>\n",
       "      <td>967</td>\n",
       "      <td>14680064.0</td>\n",
       "      <td>500,000+</td>\n",
       "      <td>Free</td>\n",
       "      <td>0</td>\n",
       "      <td>Everyone</td>\n",
       "      <td>Art &amp; Design;Pretend Play</td>\n",
       "      <td>January 15, 2018</td>\n",
       "      <td>2.0.0</td>\n",
       "      <td>4.0.3 and up</td>\n",
       "    </tr>\n",
       "    <tr>\n",
       "      <th>2</th>\n",
       "      <td>U Launcher Lite – FREE Live Cool Themes, Hide ...</td>\n",
       "      <td>ART_AND_DESIGN</td>\n",
       "      <td>4.7</td>\n",
       "      <td>87510</td>\n",
       "      <td>9122611.2</td>\n",
       "      <td>5,000,000+</td>\n",
       "      <td>Free</td>\n",
       "      <td>0</td>\n",
       "      <td>Everyone</td>\n",
       "      <td>Art &amp; Design</td>\n",
       "      <td>August 1, 2018</td>\n",
       "      <td>1.2.4</td>\n",
       "      <td>4.0.3 and up</td>\n",
       "    </tr>\n",
       "    <tr>\n",
       "      <th>3</th>\n",
       "      <td>Sketch - Draw &amp; Paint</td>\n",
       "      <td>ART_AND_DESIGN</td>\n",
       "      <td>4.5</td>\n",
       "      <td>215644</td>\n",
       "      <td>26214400.0</td>\n",
       "      <td>50,000,000+</td>\n",
       "      <td>Free</td>\n",
       "      <td>0</td>\n",
       "      <td>Teen</td>\n",
       "      <td>Art &amp; Design</td>\n",
       "      <td>June 8, 2018</td>\n",
       "      <td>Varies with device</td>\n",
       "      <td>4.2 and up</td>\n",
       "    </tr>\n",
       "    <tr>\n",
       "      <th>4</th>\n",
       "      <td>Pixel Draw - Number Art Coloring Book</td>\n",
       "      <td>ART_AND_DESIGN</td>\n",
       "      <td>4.3</td>\n",
       "      <td>967</td>\n",
       "      <td>2936012.8</td>\n",
       "      <td>100,000+</td>\n",
       "      <td>Free</td>\n",
       "      <td>0</td>\n",
       "      <td>Everyone</td>\n",
       "      <td>Art &amp; Design;Creativity</td>\n",
       "      <td>June 20, 2018</td>\n",
       "      <td>1.1</td>\n",
       "      <td>4.4 and up</td>\n",
       "    </tr>\n",
       "  </tbody>\n",
       "</table>\n",
       "</div>"
      ],
      "text/plain": [
       "                                                 App        Category  Rating  \\\n",
       "0     Photo Editor & Candy Camera & Grid & ScrapBook  ART_AND_DESIGN     4.1   \n",
       "1                                Coloring book moana  ART_AND_DESIGN     3.9   \n",
       "2  U Launcher Lite – FREE Live Cool Themes, Hide ...  ART_AND_DESIGN     4.7   \n",
       "3                              Sketch - Draw & Paint  ART_AND_DESIGN     4.5   \n",
       "4              Pixel Draw - Number Art Coloring Book  ART_AND_DESIGN     4.3   \n",
       "\n",
       "  Reviews Size_in_Bytes     Installs  Type Price Content Rating  \\\n",
       "0     159    19922944.0      10,000+  Free     0       Everyone   \n",
       "1     967    14680064.0     500,000+  Free     0       Everyone   \n",
       "2   87510     9122611.2   5,000,000+  Free     0       Everyone   \n",
       "3  215644    26214400.0  50,000,000+  Free     0           Teen   \n",
       "4     967     2936012.8     100,000+  Free     0       Everyone   \n",
       "\n",
       "                      Genres      Last Updated         Current Ver  \\\n",
       "0               Art & Design   January 7, 2018               1.0.0   \n",
       "1  Art & Design;Pretend Play  January 15, 2018               2.0.0   \n",
       "2               Art & Design    August 1, 2018               1.2.4   \n",
       "3               Art & Design      June 8, 2018  Varies with device   \n",
       "4    Art & Design;Creativity     June 20, 2018                 1.1   \n",
       "\n",
       "    Android Ver  \n",
       "0  4.0.3 and up  \n",
       "1  4.0.3 and up  \n",
       "2  4.0.3 and up  \n",
       "3    4.2 and up  \n",
       "4    4.4 and up  "
      ]
     },
     "execution_count": 16,
     "metadata": {},
     "output_type": "execute_result"
    }
   ],
   "source": [
    "# Renaming column to better understand we have converted size\n",
    "df.rename(columns={'Size':'Size_in_Bytes'}, inplace=True) #inplace True is basically make the chnages True in your df\n",
    "df.head()"
   ]
  },
  {
   "cell_type": "code",
   "execution_count": 17,
   "id": "f5c21ce8-f68b-4643-9865-971ae7ab0ad9",
   "metadata": {},
   "outputs": [
    {
     "name": "stdout",
     "output_type": "stream",
     "text": [
      "<class 'pandas.core.series.Series'>\n",
      "RangeIndex: 10841 entries, 0 to 10840\n",
      "Series name: Size_in_Bytes\n",
      "Non-Null Count  Dtype \n",
      "--------------  ----- \n",
      "9146 non-null   object\n",
      "dtypes: object(1)\n",
      "memory usage: 84.8+ KB\n"
     ]
    }
   ],
   "source": [
    "df['Size_in_Bytes'].info()"
   ]
  },
  {
   "cell_type": "code",
   "execution_count": 18,
   "id": "711a3f10-8ad3-4bf5-b808-fda638f06bdd",
   "metadata": {},
   "outputs": [],
   "source": [
    "df['Size_in_Bytes'] = pd.to_numeric(df['Size_in_Bytes'], errors='coerce')\n"
   ]
  },
  {
   "cell_type": "code",
   "execution_count": 19,
   "id": "06baf865-7957-4cb0-8b31-cc3331c87681",
   "metadata": {},
   "outputs": [
    {
     "name": "stdout",
     "output_type": "stream",
     "text": [
      "<class 'pandas.core.series.Series'>\n",
      "RangeIndex: 10841 entries, 0 to 10840\n",
      "Series name: Size_in_Bytes\n",
      "Non-Null Count  Dtype  \n",
      "--------------  -----  \n",
      "9145 non-null   float64\n",
      "dtypes: float64(1)\n",
      "memory usage: 84.8 KB\n"
     ]
    }
   ],
   "source": [
    "df['Size_in_Bytes'].info()"
   ]
  },
  {
   "cell_type": "code",
   "execution_count": 20,
   "id": "56c6f8bf-b560-4e9c-a3ae-b25d544d7251",
   "metadata": {},
   "outputs": [],
   "source": [
    "df['Size_in_Bytes'] = df['Size_in_Bytes'] / 1_048_576\n"
   ]
  },
  {
   "cell_type": "code",
   "execution_count": 21,
   "id": "5323bf4f-4b49-419e-a42c-9ea5c189561c",
   "metadata": {},
   "outputs": [],
   "source": [
    "df.rename(columns={'Size_in_Bytes':'Size_in_Mega'} ,inplace=True)"
   ]
  },
  {
   "cell_type": "code",
   "execution_count": 22,
   "id": "2d7a6c28-1c25-4239-907a-30929e3aa4f0",
   "metadata": {
    "scrolled": true
   },
   "outputs": [
    {
     "data": {
      "text/html": [
       "<div>\n",
       "<style scoped>\n",
       "    .dataframe tbody tr th:only-of-type {\n",
       "        vertical-align: middle;\n",
       "    }\n",
       "\n",
       "    .dataframe tbody tr th {\n",
       "        vertical-align: top;\n",
       "    }\n",
       "\n",
       "    .dataframe thead th {\n",
       "        text-align: right;\n",
       "    }\n",
       "</style>\n",
       "<table border=\"1\" class=\"dataframe\">\n",
       "  <thead>\n",
       "    <tr style=\"text-align: right;\">\n",
       "      <th></th>\n",
       "      <th>App</th>\n",
       "      <th>Category</th>\n",
       "      <th>Rating</th>\n",
       "      <th>Reviews</th>\n",
       "      <th>Size_in_Mega</th>\n",
       "      <th>Installs</th>\n",
       "      <th>Type</th>\n",
       "      <th>Price</th>\n",
       "      <th>Content Rating</th>\n",
       "      <th>Genres</th>\n",
       "      <th>Last Updated</th>\n",
       "      <th>Current Ver</th>\n",
       "      <th>Android Ver</th>\n",
       "    </tr>\n",
       "  </thead>\n",
       "  <tbody>\n",
       "    <tr>\n",
       "      <th>0</th>\n",
       "      <td>Photo Editor &amp; Candy Camera &amp; Grid &amp; ScrapBook</td>\n",
       "      <td>ART_AND_DESIGN</td>\n",
       "      <td>4.1</td>\n",
       "      <td>159</td>\n",
       "      <td>19.0</td>\n",
       "      <td>10,000+</td>\n",
       "      <td>Free</td>\n",
       "      <td>0</td>\n",
       "      <td>Everyone</td>\n",
       "      <td>Art &amp; Design</td>\n",
       "      <td>January 7, 2018</td>\n",
       "      <td>1.0.0</td>\n",
       "      <td>4.0.3 and up</td>\n",
       "    </tr>\n",
       "    <tr>\n",
       "      <th>1</th>\n",
       "      <td>Coloring book moana</td>\n",
       "      <td>ART_AND_DESIGN</td>\n",
       "      <td>3.9</td>\n",
       "      <td>967</td>\n",
       "      <td>14.0</td>\n",
       "      <td>500,000+</td>\n",
       "      <td>Free</td>\n",
       "      <td>0</td>\n",
       "      <td>Everyone</td>\n",
       "      <td>Art &amp; Design;Pretend Play</td>\n",
       "      <td>January 15, 2018</td>\n",
       "      <td>2.0.0</td>\n",
       "      <td>4.0.3 and up</td>\n",
       "    </tr>\n",
       "    <tr>\n",
       "      <th>2</th>\n",
       "      <td>U Launcher Lite – FREE Live Cool Themes, Hide ...</td>\n",
       "      <td>ART_AND_DESIGN</td>\n",
       "      <td>4.7</td>\n",
       "      <td>87510</td>\n",
       "      <td>8.7</td>\n",
       "      <td>5,000,000+</td>\n",
       "      <td>Free</td>\n",
       "      <td>0</td>\n",
       "      <td>Everyone</td>\n",
       "      <td>Art &amp; Design</td>\n",
       "      <td>August 1, 2018</td>\n",
       "      <td>1.2.4</td>\n",
       "      <td>4.0.3 and up</td>\n",
       "    </tr>\n",
       "    <tr>\n",
       "      <th>3</th>\n",
       "      <td>Sketch - Draw &amp; Paint</td>\n",
       "      <td>ART_AND_DESIGN</td>\n",
       "      <td>4.5</td>\n",
       "      <td>215644</td>\n",
       "      <td>25.0</td>\n",
       "      <td>50,000,000+</td>\n",
       "      <td>Free</td>\n",
       "      <td>0</td>\n",
       "      <td>Teen</td>\n",
       "      <td>Art &amp; Design</td>\n",
       "      <td>June 8, 2018</td>\n",
       "      <td>Varies with device</td>\n",
       "      <td>4.2 and up</td>\n",
       "    </tr>\n",
       "    <tr>\n",
       "      <th>4</th>\n",
       "      <td>Pixel Draw - Number Art Coloring Book</td>\n",
       "      <td>ART_AND_DESIGN</td>\n",
       "      <td>4.3</td>\n",
       "      <td>967</td>\n",
       "      <td>2.8</td>\n",
       "      <td>100,000+</td>\n",
       "      <td>Free</td>\n",
       "      <td>0</td>\n",
       "      <td>Everyone</td>\n",
       "      <td>Art &amp; Design;Creativity</td>\n",
       "      <td>June 20, 2018</td>\n",
       "      <td>1.1</td>\n",
       "      <td>4.4 and up</td>\n",
       "    </tr>\n",
       "    <tr>\n",
       "      <th>5</th>\n",
       "      <td>Paper flowers instructions</td>\n",
       "      <td>ART_AND_DESIGN</td>\n",
       "      <td>4.4</td>\n",
       "      <td>167</td>\n",
       "      <td>5.6</td>\n",
       "      <td>50,000+</td>\n",
       "      <td>Free</td>\n",
       "      <td>0</td>\n",
       "      <td>Everyone</td>\n",
       "      <td>Art &amp; Design</td>\n",
       "      <td>March 26, 2017</td>\n",
       "      <td>1.0</td>\n",
       "      <td>2.3 and up</td>\n",
       "    </tr>\n",
       "    <tr>\n",
       "      <th>6</th>\n",
       "      <td>Smoke Effect Photo Maker - Smoke Editor</td>\n",
       "      <td>ART_AND_DESIGN</td>\n",
       "      <td>3.8</td>\n",
       "      <td>178</td>\n",
       "      <td>19.0</td>\n",
       "      <td>50,000+</td>\n",
       "      <td>Free</td>\n",
       "      <td>0</td>\n",
       "      <td>Everyone</td>\n",
       "      <td>Art &amp; Design</td>\n",
       "      <td>April 26, 2018</td>\n",
       "      <td>1.1</td>\n",
       "      <td>4.0.3 and up</td>\n",
       "    </tr>\n",
       "    <tr>\n",
       "      <th>7</th>\n",
       "      <td>Infinite Painter</td>\n",
       "      <td>ART_AND_DESIGN</td>\n",
       "      <td>4.1</td>\n",
       "      <td>36815</td>\n",
       "      <td>29.0</td>\n",
       "      <td>1,000,000+</td>\n",
       "      <td>Free</td>\n",
       "      <td>0</td>\n",
       "      <td>Everyone</td>\n",
       "      <td>Art &amp; Design</td>\n",
       "      <td>June 14, 2018</td>\n",
       "      <td>6.1.61.1</td>\n",
       "      <td>4.2 and up</td>\n",
       "    </tr>\n",
       "    <tr>\n",
       "      <th>8</th>\n",
       "      <td>Garden Coloring Book</td>\n",
       "      <td>ART_AND_DESIGN</td>\n",
       "      <td>4.4</td>\n",
       "      <td>13791</td>\n",
       "      <td>33.0</td>\n",
       "      <td>1,000,000+</td>\n",
       "      <td>Free</td>\n",
       "      <td>0</td>\n",
       "      <td>Everyone</td>\n",
       "      <td>Art &amp; Design</td>\n",
       "      <td>September 20, 2017</td>\n",
       "      <td>2.9.2</td>\n",
       "      <td>3.0 and up</td>\n",
       "    </tr>\n",
       "    <tr>\n",
       "      <th>9</th>\n",
       "      <td>Kids Paint Free - Drawing Fun</td>\n",
       "      <td>ART_AND_DESIGN</td>\n",
       "      <td>4.7</td>\n",
       "      <td>121</td>\n",
       "      <td>3.1</td>\n",
       "      <td>10,000+</td>\n",
       "      <td>Free</td>\n",
       "      <td>0</td>\n",
       "      <td>Everyone</td>\n",
       "      <td>Art &amp; Design;Creativity</td>\n",
       "      <td>July 3, 2018</td>\n",
       "      <td>2.8</td>\n",
       "      <td>4.0.3 and up</td>\n",
       "    </tr>\n",
       "  </tbody>\n",
       "</table>\n",
       "</div>"
      ],
      "text/plain": [
       "                                                 App        Category  Rating  \\\n",
       "0     Photo Editor & Candy Camera & Grid & ScrapBook  ART_AND_DESIGN     4.1   \n",
       "1                                Coloring book moana  ART_AND_DESIGN     3.9   \n",
       "2  U Launcher Lite – FREE Live Cool Themes, Hide ...  ART_AND_DESIGN     4.7   \n",
       "3                              Sketch - Draw & Paint  ART_AND_DESIGN     4.5   \n",
       "4              Pixel Draw - Number Art Coloring Book  ART_AND_DESIGN     4.3   \n",
       "5                         Paper flowers instructions  ART_AND_DESIGN     4.4   \n",
       "6            Smoke Effect Photo Maker - Smoke Editor  ART_AND_DESIGN     3.8   \n",
       "7                                   Infinite Painter  ART_AND_DESIGN     4.1   \n",
       "8                               Garden Coloring Book  ART_AND_DESIGN     4.4   \n",
       "9                      Kids Paint Free - Drawing Fun  ART_AND_DESIGN     4.7   \n",
       "\n",
       "  Reviews  Size_in_Mega     Installs  Type Price Content Rating  \\\n",
       "0     159          19.0      10,000+  Free     0       Everyone   \n",
       "1     967          14.0     500,000+  Free     0       Everyone   \n",
       "2   87510           8.7   5,000,000+  Free     0       Everyone   \n",
       "3  215644          25.0  50,000,000+  Free     0           Teen   \n",
       "4     967           2.8     100,000+  Free     0       Everyone   \n",
       "5     167           5.6      50,000+  Free     0       Everyone   \n",
       "6     178          19.0      50,000+  Free     0       Everyone   \n",
       "7   36815          29.0   1,000,000+  Free     0       Everyone   \n",
       "8   13791          33.0   1,000,000+  Free     0       Everyone   \n",
       "9     121           3.1      10,000+  Free     0       Everyone   \n",
       "\n",
       "                      Genres        Last Updated         Current Ver  \\\n",
       "0               Art & Design     January 7, 2018               1.0.0   \n",
       "1  Art & Design;Pretend Play    January 15, 2018               2.0.0   \n",
       "2               Art & Design      August 1, 2018               1.2.4   \n",
       "3               Art & Design        June 8, 2018  Varies with device   \n",
       "4    Art & Design;Creativity       June 20, 2018                 1.1   \n",
       "5               Art & Design      March 26, 2017                 1.0   \n",
       "6               Art & Design      April 26, 2018                 1.1   \n",
       "7               Art & Design       June 14, 2018            6.1.61.1   \n",
       "8               Art & Design  September 20, 2017               2.9.2   \n",
       "9    Art & Design;Creativity        July 3, 2018                 2.8   \n",
       "\n",
       "    Android Ver  \n",
       "0  4.0.3 and up  \n",
       "1  4.0.3 and up  \n",
       "2  4.0.3 and up  \n",
       "3    4.2 and up  \n",
       "4    4.4 and up  \n",
       "5    2.3 and up  \n",
       "6  4.0.3 and up  \n",
       "7    4.2 and up  \n",
       "8    3.0 and up  \n",
       "9  4.0.3 and up  "
      ]
     },
     "execution_count": 22,
     "metadata": {},
     "output_type": "execute_result"
    }
   ],
   "source": [
    "df.head(10)"
   ]
  },
  {
   "cell_type": "markdown",
   "id": "7f680cde-718c-4306-8e91-e8d827bbaf55",
   "metadata": {},
   "source": [
    "### 3 fix price"
   ]
  },
  {
   "cell_type": "code",
   "execution_count": 24,
   "id": "703d4523-5c90-48d8-a0ee-4323c544cd3c",
   "metadata": {},
   "outputs": [
    {
     "data": {
      "text/plain": [
       "Price\n",
       "0         10040\n",
       "$0.99       148\n",
       "$2.99       129\n",
       "$1.99        73\n",
       "$4.99        72\n",
       "          ...  \n",
       "$1.75         1\n",
       "$14.00        1\n",
       "$4.85         1\n",
       "$46.99        1\n",
       "$1.04         1\n",
       "Name: count, Length: 93, dtype: int64"
      ]
     },
     "execution_count": 24,
     "metadata": {},
     "output_type": "execute_result"
    }
   ],
   "source": [
    "df['Price'].value_counts()"
   ]
  },
  {
   "cell_type": "code",
   "execution_count": 25,
   "id": "2709a984-57d3-4a7f-8781-a6320df04d3f",
   "metadata": {},
   "outputs": [
    {
     "data": {
      "text/plain": [
       "10841"
      ]
     },
     "execution_count": 25,
     "metadata": {},
     "output_type": "execute_result"
    }
   ],
   "source": [
    "df['Price'].loc[df['Price'].str.contains('$')].value_counts().sum()"
   ]
  },
  {
   "cell_type": "code",
   "execution_count": 26,
   "id": "6af04e5c-addb-427c-b74f-103f83cdf84a",
   "metadata": {},
   "outputs": [],
   "source": [
    "df['Price']=df['Price'].apply(lambda x: x.replace('$', \"\")if '$' in str(x) else(x))"
   ]
  },
  {
   "cell_type": "code",
   "execution_count": 27,
   "id": "db512014-dd9e-44d7-ba40-f96aeca077f3",
   "metadata": {},
   "outputs": [
    {
     "data": {
      "text/plain": [
       "Price\n",
       "0        10040\n",
       "0.99       148\n",
       "2.99       129\n",
       "1.99        73\n",
       "4.99        72\n",
       "         ...  \n",
       "1.75         1\n",
       "14.00        1\n",
       "4.85         1\n",
       "46.99        1\n",
       "1.04         1\n",
       "Name: count, Length: 93, dtype: int64"
      ]
     },
     "execution_count": 27,
     "metadata": {},
     "output_type": "execute_result"
    }
   ],
   "source": [
    "df['Price'].value_counts()"
   ]
  },
  {
   "cell_type": "code",
   "execution_count": 28,
   "id": "f23ad5cc-5ad2-49a7-9d48-47cf8078c20d",
   "metadata": {},
   "outputs": [],
   "source": [
    "df['Price'] = pd.to_numeric(df['Price'], errors='coerce')\n"
   ]
  },
  {
   "cell_type": "code",
   "execution_count": 29,
   "id": "2b57a7bc-fb59-4ba1-ae79-df23922d8c2d",
   "metadata": {},
   "outputs": [
    {
     "data": {
      "text/plain": [
       "0        0.0\n",
       "1        0.0\n",
       "2        0.0\n",
       "3        0.0\n",
       "4        0.0\n",
       "        ... \n",
       "10836    0.0\n",
       "10837    0.0\n",
       "10838    0.0\n",
       "10839    0.0\n",
       "10840    0.0\n",
       "Name: Price, Length: 10841, dtype: float64"
      ]
     },
     "execution_count": 29,
     "metadata": {},
     "output_type": "execute_result"
    }
   ],
   "source": [
    "df['Price']"
   ]
  },
  {
   "cell_type": "code",
   "execution_count": 30,
   "id": "c1de8015-89f8-4527-bb50-499cd69d9beb",
   "metadata": {},
   "outputs": [
    {
     "data": {
      "text/html": [
       "<div>\n",
       "<style scoped>\n",
       "    .dataframe tbody tr th:only-of-type {\n",
       "        vertical-align: middle;\n",
       "    }\n",
       "\n",
       "    .dataframe tbody tr th {\n",
       "        vertical-align: top;\n",
       "    }\n",
       "\n",
       "    .dataframe thead th {\n",
       "        text-align: right;\n",
       "    }\n",
       "</style>\n",
       "<table border=\"1\" class=\"dataframe\">\n",
       "  <thead>\n",
       "    <tr style=\"text-align: right;\">\n",
       "      <th></th>\n",
       "      <th>Rating</th>\n",
       "      <th>Size_in_Mega</th>\n",
       "      <th>Price</th>\n",
       "    </tr>\n",
       "  </thead>\n",
       "  <tbody>\n",
       "    <tr>\n",
       "      <th>count</th>\n",
       "      <td>10841.000000</td>\n",
       "      <td>9145.000000</td>\n",
       "      <td>10840.000000</td>\n",
       "    </tr>\n",
       "    <tr>\n",
       "      <th>mean</th>\n",
       "      <td>4.191820</td>\n",
       "      <td>21.516165</td>\n",
       "      <td>1.027368</td>\n",
       "    </tr>\n",
       "    <tr>\n",
       "      <th>std</th>\n",
       "      <td>0.500681</td>\n",
       "      <td>22.589084</td>\n",
       "      <td>15.949703</td>\n",
       "    </tr>\n",
       "    <tr>\n",
       "      <th>min</th>\n",
       "      <td>1.000000</td>\n",
       "      <td>0.008301</td>\n",
       "      <td>0.000000</td>\n",
       "    </tr>\n",
       "    <tr>\n",
       "      <th>25%</th>\n",
       "      <td>4.047411</td>\n",
       "      <td>4.900000</td>\n",
       "      <td>0.000000</td>\n",
       "    </tr>\n",
       "    <tr>\n",
       "      <th>50%</th>\n",
       "      <td>4.259664</td>\n",
       "      <td>13.000000</td>\n",
       "      <td>0.000000</td>\n",
       "    </tr>\n",
       "    <tr>\n",
       "      <th>75%</th>\n",
       "      <td>4.500000</td>\n",
       "      <td>30.000000</td>\n",
       "      <td>0.000000</td>\n",
       "    </tr>\n",
       "    <tr>\n",
       "      <th>max</th>\n",
       "      <td>19.000000</td>\n",
       "      <td>100.000000</td>\n",
       "      <td>400.000000</td>\n",
       "    </tr>\n",
       "  </tbody>\n",
       "</table>\n",
       "</div>"
      ],
      "text/plain": [
       "             Rating  Size_in_Mega         Price\n",
       "count  10841.000000   9145.000000  10840.000000\n",
       "mean       4.191820     21.516165      1.027368\n",
       "std        0.500681     22.589084     15.949703\n",
       "min        1.000000      0.008301      0.000000\n",
       "25%        4.047411      4.900000      0.000000\n",
       "50%        4.259664     13.000000      0.000000\n",
       "75%        4.500000     30.000000      0.000000\n",
       "max       19.000000    100.000000    400.000000"
      ]
     },
     "execution_count": 30,
     "metadata": {},
     "output_type": "execute_result"
    }
   ],
   "source": [
    "df.describe()"
   ]
  },
  {
   "cell_type": "markdown",
   "id": "bc796864-dc20-4ca4-ab5a-a90404c22c54",
   "metadata": {},
   "source": [
    "### 4 fix category"
   ]
  },
  {
   "cell_type": "code",
   "execution_count": 32,
   "id": "76802e2c-12c9-4f2b-bf55-7034683ff9dd",
   "metadata": {},
   "outputs": [
    {
     "data": {
      "text/plain": [
       "Category\n",
       "FAMILY                 1972\n",
       "GAME                   1144\n",
       "TOOLS                   843\n",
       "MEDICAL                 463\n",
       "BUSINESS                460\n",
       "PRODUCTIVITY            424\n",
       "PERSONALIZATION         392\n",
       "COMMUNICATION           387\n",
       "SPORTS                  384\n",
       "LIFESTYLE               382\n",
       "FINANCE                 366\n",
       "HEALTH_AND_FITNESS      341\n",
       "PHOTOGRAPHY             335\n",
       "SOCIAL                  295\n",
       "NEWS_AND_MAGAZINES      283\n",
       "SHOPPING                260\n",
       "TRAVEL_AND_LOCAL        258\n",
       "DATING                  234\n",
       "BOOKS_AND_REFERENCE     231\n",
       "VIDEO_PLAYERS           175\n",
       "EDUCATION               156\n",
       "ENTERTAINMENT           149\n",
       "MAPS_AND_NAVIGATION     137\n",
       "FOOD_AND_DRINK          127\n",
       "HOUSE_AND_HOME           88\n",
       "LIBRARIES_AND_DEMO       85\n",
       "AUTO_AND_VEHICLES        85\n",
       "WEATHER                  82\n",
       "ART_AND_DESIGN           65\n",
       "EVENTS                   64\n",
       "PARENTING                60\n",
       "COMICS                   60\n",
       "BEAUTY                   53\n",
       "1.9                       1\n",
       "Name: count, dtype: int64"
      ]
     },
     "execution_count": 32,
     "metadata": {},
     "output_type": "execute_result"
    }
   ],
   "source": [
    "df['Category'].value_counts()"
   ]
  },
  {
   "cell_type": "code",
   "execution_count": 33,
   "id": "86fceafb-acb5-4c92-889d-151328003a85",
   "metadata": {},
   "outputs": [],
   "source": [
    "df[\"Category\"] = df[\"Category\"].str.strip()\n"
   ]
  },
  {
   "cell_type": "code",
   "execution_count": 34,
   "id": "d0860ffd-11a4-48ba-b153-b50a622e855a",
   "metadata": {},
   "outputs": [
    {
     "name": "stdout",
     "output_type": "stream",
     "text": [
      "['ART_AND_DESIGN' 'AUTO_AND_VEHICLES' 'BEAUTY' 'BOOKS_AND_REFERENCE'\n",
      " 'BUSINESS' 'COMICS' 'COMMUNICATION' 'DATING' 'EDUCATION' 'ENTERTAINMENT'\n",
      " 'EVENTS' 'FINANCE' 'FOOD_AND_DRINK' 'HEALTH_AND_FITNESS' 'HOUSE_AND_HOME'\n",
      " 'LIBRARIES_AND_DEMO' 'LIFESTYLE' 'GAME' 'FAMILY' 'MEDICAL' 'SOCIAL'\n",
      " 'SHOPPING' 'PHOTOGRAPHY' 'SPORTS' 'TRAVEL_AND_LOCAL' 'TOOLS'\n",
      " 'PERSONALIZATION' 'PRODUCTIVITY' 'PARENTING' 'WEATHER' 'VIDEO_PLAYERS'\n",
      " 'NEWS_AND_MAGAZINES' 'MAPS_AND_NAVIGATION' '1.9']\n"
     ]
    }
   ],
   "source": [
    "print(df[\"Category\"].unique())\n"
   ]
  },
  {
   "cell_type": "code",
   "execution_count": 35,
   "id": "beefff7a-cc01-41c1-8f41-977d4fd75405",
   "metadata": {},
   "outputs": [
    {
     "data": {
      "text/html": [
       "<div>\n",
       "<style scoped>\n",
       "    .dataframe tbody tr th:only-of-type {\n",
       "        vertical-align: middle;\n",
       "    }\n",
       "\n",
       "    .dataframe tbody tr th {\n",
       "        vertical-align: top;\n",
       "    }\n",
       "\n",
       "    .dataframe thead th {\n",
       "        text-align: right;\n",
       "    }\n",
       "</style>\n",
       "<table border=\"1\" class=\"dataframe\">\n",
       "  <thead>\n",
       "    <tr style=\"text-align: right;\">\n",
       "      <th></th>\n",
       "      <th>App</th>\n",
       "      <th>Category</th>\n",
       "      <th>Rating</th>\n",
       "      <th>Reviews</th>\n",
       "      <th>Size_in_Mega</th>\n",
       "      <th>Installs</th>\n",
       "      <th>Type</th>\n",
       "      <th>Price</th>\n",
       "      <th>Content Rating</th>\n",
       "      <th>Genres</th>\n",
       "      <th>Last Updated</th>\n",
       "      <th>Current Ver</th>\n",
       "      <th>Android Ver</th>\n",
       "    </tr>\n",
       "  </thead>\n",
       "  <tbody>\n",
       "    <tr>\n",
       "      <th>10472</th>\n",
       "      <td>Life Made WI-Fi Touchscreen Photo Frame</td>\n",
       "      <td>1.9</td>\n",
       "      <td>19.0</td>\n",
       "      <td>3.0M</td>\n",
       "      <td>NaN</td>\n",
       "      <td>Free</td>\n",
       "      <td>0</td>\n",
       "      <td>NaN</td>\n",
       "      <td>NaN</td>\n",
       "      <td>February 11, 2018</td>\n",
       "      <td>1.0.19</td>\n",
       "      <td>4.0 and up</td>\n",
       "      <td>NaN</td>\n",
       "    </tr>\n",
       "  </tbody>\n",
       "</table>\n",
       "</div>"
      ],
      "text/plain": [
       "                                           App Category  Rating Reviews  \\\n",
       "10472  Life Made WI-Fi Touchscreen Photo Frame      1.9    19.0    3.0M   \n",
       "\n",
       "       Size_in_Mega Installs Type  Price Content Rating             Genres  \\\n",
       "10472           NaN     Free    0    NaN            NaN  February 11, 2018   \n",
       "\n",
       "      Last Updated Current Ver Android Ver  \n",
       "10472       1.0.19  4.0 and up         NaN  "
      ]
     },
     "execution_count": 35,
     "metadata": {},
     "output_type": "execute_result"
    }
   ],
   "source": [
    "df[df[\"Category\"] == \"1.9\"]\n"
   ]
  },
  {
   "cell_type": "code",
   "execution_count": 36,
   "id": "1fa320b2-810d-40bf-b1fd-23c02001c3a7",
   "metadata": {},
   "outputs": [],
   "source": [
    "most_common_category = df[\"Category\"].mode()[0]\n",
    "df[\"Category\"] = df[\"Category\"].replace(\"1.9\", most_common_category)\n"
   ]
  },
  {
   "cell_type": "code",
   "execution_count": 37,
   "id": "33888c91-fa9e-4db2-9e1d-383e039a36b8",
   "metadata": {},
   "outputs": [
    {
     "data": {
      "text/plain": [
       "Category\n",
       "FAMILY                 1973\n",
       "GAME                   1144\n",
       "TOOLS                   843\n",
       "MEDICAL                 463\n",
       "BUSINESS                460\n",
       "PRODUCTIVITY            424\n",
       "PERSONALIZATION         392\n",
       "COMMUNICATION           387\n",
       "SPORTS                  384\n",
       "LIFESTYLE               382\n",
       "FINANCE                 366\n",
       "HEALTH_AND_FITNESS      341\n",
       "PHOTOGRAPHY             335\n",
       "SOCIAL                  295\n",
       "NEWS_AND_MAGAZINES      283\n",
       "SHOPPING                260\n",
       "TRAVEL_AND_LOCAL        258\n",
       "DATING                  234\n",
       "BOOKS_AND_REFERENCE     231\n",
       "VIDEO_PLAYERS           175\n",
       "EDUCATION               156\n",
       "ENTERTAINMENT           149\n",
       "MAPS_AND_NAVIGATION     137\n",
       "FOOD_AND_DRINK          127\n",
       "HOUSE_AND_HOME           88\n",
       "AUTO_AND_VEHICLES        85\n",
       "LIBRARIES_AND_DEMO       85\n",
       "WEATHER                  82\n",
       "ART_AND_DESIGN           65\n",
       "EVENTS                   64\n",
       "PARENTING                60\n",
       "COMICS                   60\n",
       "BEAUTY                   53\n",
       "Name: count, dtype: int64"
      ]
     },
     "execution_count": 37,
     "metadata": {},
     "output_type": "execute_result"
    }
   ],
   "source": [
    "df['Category'].value_counts()"
   ]
  },
  {
   "cell_type": "code",
   "execution_count": 38,
   "id": "3291eccd-096d-47d3-986d-dd034da14756",
   "metadata": {},
   "outputs": [
    {
     "name": "stdout",
     "output_type": "stream",
     "text": [
      "0\n"
     ]
    }
   ],
   "source": [
    "print(df[\"Category\"].isnull().sum())\n"
   ]
  },
  {
   "cell_type": "markdown",
   "id": "b0cf005f-060f-47ef-82d1-1186a65336b2",
   "metadata": {},
   "source": [
    "### 5 Fix Android Version"
   ]
  },
  {
   "cell_type": "code",
   "execution_count": 40,
   "id": "f6045336-c3c4-4140-8c47-9de6813df8b8",
   "metadata": {},
   "outputs": [
    {
     "data": {
      "text/plain": [
       "Android Ver\n",
       "4.1 and up            2451\n",
       "4.0.3 and up          1501\n",
       "4.0 and up            1375\n",
       "Varies with device    1362\n",
       "4.4 and up             980\n",
       "2.3 and up             652\n",
       "5.0 and up             601\n",
       "4.2 and up             394\n",
       "2.3.3 and up           281\n",
       "2.2 and up             244\n",
       "4.3 and up             243\n",
       "3.0 and up             241\n",
       "2.1 and up             134\n",
       "1.6 and up             116\n",
       "6.0 and up              60\n",
       "7.0 and up              42\n",
       "3.2 and up              36\n",
       "2.0 and up              32\n",
       "5.1 and up              24\n",
       "1.5 and up              20\n",
       "4.4W and up             12\n",
       "3.1 and up              10\n",
       "2.0.1 and up             7\n",
       "8.0 and up               6\n",
       "7.1 and up               3\n",
       "4.0.3 - 7.1.1            2\n",
       "5.0 - 8.0                2\n",
       "1.0 and up               2\n",
       "7.0 - 7.1.1              1\n",
       "4.1 - 7.1.1              1\n",
       "5.0 - 6.0                1\n",
       "2.2 - 7.1.1              1\n",
       "5.0 - 7.1.1              1\n",
       "Name: count, dtype: int64"
      ]
     },
     "execution_count": 40,
     "metadata": {},
     "output_type": "execute_result"
    }
   ],
   "source": [
    "df['Android Ver'].value_counts()"
   ]
  },
  {
   "cell_type": "code",
   "execution_count": 41,
   "id": "af788e95-1bfe-4c22-862a-67db4405e0a5",
   "metadata": {},
   "outputs": [],
   "source": [
    "most_common_version = df[\"Android Ver\"].mode()[0]\n",
    "df[\"Android Ver\"] = df[\"Android Ver\"].replace(\"Varies with device\", most_common_version)\n"
   ]
  },
  {
   "cell_type": "code",
   "execution_count": 42,
   "id": "1bcf14bb-30eb-4f34-95e4-273a9e81ca51",
   "metadata": {},
   "outputs": [],
   "source": [
    "# استخراج الحد الأدنى من الإصدارات التي تحتوي على نطاقات\n",
    "df[\"Android Ver\"] = df[\"Android Ver\"].apply(lambda x: x.split(\" - \")[0] if \"-\" in str(x) else x)\n"
   ]
  },
  {
   "cell_type": "code",
   "execution_count": 43,
   "id": "906e07f3-56d1-4edc-ba54-c96dd269af60",
   "metadata": {},
   "outputs": [],
   "source": [
    "# تعويض القيم المفقودة بالقيمة الأكثر شيوعًا\n",
    "df[\"Android Ver\"] = df[\"Android Ver\"].fillna(most_common_version)"
   ]
  },
  {
   "cell_type": "code",
   "execution_count": 44,
   "id": "8b8fafe6-36b6-4811-b0f4-b6f268b40ed2",
   "metadata": {},
   "outputs": [],
   "source": [
    "# إزالة الإصدارات النادرة جدًا (أقل من 5 مرات)\n",
    "version_counts = df[\"Android Ver\"].value_counts()\n",
    "rare_versions = version_counts[version_counts < 5].index\n",
    "df = df[~df[\"Android Ver\"].isin(rare_versions)]"
   ]
  },
  {
   "cell_type": "code",
   "execution_count": 45,
   "id": "872a2a82-50bf-40ac-b073-6af7355e3490",
   "metadata": {},
   "outputs": [
    {
     "name": "stdout",
     "output_type": "stream",
     "text": [
      "Android Ver\n",
      "4.1 and up      3816\n",
      "4.0.3 and up    1501\n",
      "4.0 and up      1375\n",
      "4.4 and up       980\n",
      "2.3 and up       652\n",
      "5.0 and up       601\n",
      "4.2 and up       394\n",
      "2.3.3 and up     281\n",
      "2.2 and up       244\n",
      "4.3 and up       243\n",
      "3.0 and up       241\n",
      "2.1 and up       134\n",
      "1.6 and up       116\n",
      "6.0 and up        60\n",
      "7.0 and up        42\n",
      "3.2 and up        36\n",
      "2.0 and up        32\n",
      "5.1 and up        24\n",
      "1.5 and up        20\n",
      "4.4W and up       12\n",
      "3.1 and up        10\n",
      "2.0.1 and up       7\n",
      "8.0 and up         6\n",
      "Name: count, dtype: int64\n"
     ]
    }
   ],
   "source": [
    "print(df[\"Android Ver\"].value_counts())\n"
   ]
  },
  {
   "cell_type": "markdown",
   "id": "63729826-297a-4c05-9ddd-d336530e929d",
   "metadata": {},
   "source": [
    "### fix installs column"
   ]
  },
  {
   "cell_type": "code",
   "execution_count": 47,
   "id": "74183620-a354-40d7-85c9-807d883dc749",
   "metadata": {},
   "outputs": [],
   "source": [
    "df['Installs']=df['Installs'].apply(lambda x: x.replace('+',\"\") if '+' in str(x) else x)"
   ]
  },
  {
   "cell_type": "code",
   "execution_count": 48,
   "id": "11d50259-f23b-487b-8023-6a447672bb13",
   "metadata": {},
   "outputs": [
    {
     "data": {
      "text/plain": [
       "Installs\n",
       "1,000,000        1577\n",
       "10,000,000       1249\n",
       "100,000          1169\n",
       "10,000           1052\n",
       "1,000             907\n",
       "5,000,000         751\n",
       "100               718\n",
       "500,000           539\n",
       "50,000            477\n",
       "5,000             477\n",
       "100,000,000       407\n",
       "10                386\n",
       "500               330\n",
       "50,000,000        289\n",
       "50                205\n",
       "5                  81\n",
       "500,000,000        72\n",
       "1                  67\n",
       "1,000,000,000      58\n",
       "0                  15\n",
       "Free                1\n",
       "Name: count, dtype: int64"
      ]
     },
     "execution_count": 48,
     "metadata": {},
     "output_type": "execute_result"
    }
   ],
   "source": [
    " df['Installs'].value_counts()"
   ]
  },
  {
   "cell_type": "code",
   "execution_count": 49,
   "id": "113c9c70-0625-46a0-9c1c-4ccf9826e542",
   "metadata": {},
   "outputs": [],
   "source": [
    "#now remove commas\n",
    "df['Installs']=df['Installs'].apply(lambda x: x.replace(',',\"\") if ',' in str(x) else x)"
   ]
  },
  {
   "cell_type": "code",
   "execution_count": 50,
   "id": "adbb7014-2eae-4f0d-8fa6-dc948a6c292f",
   "metadata": {},
   "outputs": [
    {
     "data": {
      "text/plain": [
       "Installs\n",
       "1000000       1577\n",
       "10000000      1249\n",
       "100000        1169\n",
       "10000         1052\n",
       "1000           907\n",
       "5000000        751\n",
       "100            718\n",
       "500000         539\n",
       "50000          477\n",
       "5000           477\n",
       "100000000      407\n",
       "10             386\n",
       "500            330\n",
       "50000000       289\n",
       "50             205\n",
       "5               81\n",
       "500000000       72\n",
       "1               67\n",
       "1000000000      58\n",
       "0               15\n",
       "Free             1\n",
       "Name: count, dtype: int64"
      ]
     },
     "execution_count": 50,
     "metadata": {},
     "output_type": "execute_result"
    }
   ],
   "source": [
    "df['Installs'].value_counts()"
   ]
  },
  {
   "cell_type": "code",
   "execution_count": 51,
   "id": "e69d000d-6ea5-46e7-a803-958c8faa801a",
   "metadata": {},
   "outputs": [],
   "source": [
    "# 6️⃣ إزالة القيم المتطرفة\n",
    "# دالة لحذف القيم المتطرفة باستخدام IQR\n",
    "def remove_outliers(df, column):\n",
    "    Q1 = df[column].quantile(0.25)\n",
    "    Q3 = df[column].quantile(0.75)\n",
    "    IQR = Q3 - Q1\n",
    "    lower_bound = Q1 - 1.5 * IQR\n",
    "    upper_bound = Q3 + 1.5 * IQR\n",
    "    return df[(df[column] >= lower_bound) & (df[column] <= upper_bound)]"
   ]
  },
  {
   "cell_type": "code",
   "execution_count": 52,
   "id": "1959cc6e-00c8-4676-ba4d-d02564616d4f",
   "metadata": {},
   "outputs": [],
   "source": [
    "# df[\"Reviews\"] = df[\"Reviews\"].astype(int)"
   ]
  },
  {
   "cell_type": "code",
   "execution_count": 53,
   "id": "87cb04d0-7e74-461e-8609-08dbc8984db6",
   "metadata": {},
   "outputs": [],
   "source": [
    "# # التأكد من أن القيم رقمية\n",
    "# df[\"Price\"] = pd.to_numeric(df[\"Price\"], errors=\"coerce\")\n",
    "# df[\"Reviews\"] = pd.to_numeric(df[\"Reviews\"], errors=\"coerce\")\n",
    "# df[\"Installs\"] = pd.to_numeric(df[\"Installs\"], errors=\"coerce\")\n",
    "\n",
    "# # إزالة أي صف يحتوي على قيم غير رقمية بعد التحويل\n",
    "# df = df.dropna(subset=[\"Price\", \"Reviews\", \"Installs\"])\n"
   ]
  },
  {
   "cell_type": "code",
   "execution_count": 54,
   "id": "5bcd722a-8afe-4f71-873e-18400c2a725d",
   "metadata": {},
   "outputs": [],
   "source": [
    "# df = remove_outliers(df, \"Price\")\n",
    "# df = remove_outliers(df, \"Reviews\")\n",
    "# df = remove_outliers(df, \"Installs\")"
   ]
  },
  {
   "cell_type": "code",
   "execution_count": 55,
   "id": "e9e7601e-d145-4f6b-abd7-ce047fa14acf",
   "metadata": {},
   "outputs": [
    {
     "data": {
      "text/html": [
       "<div>\n",
       "<style scoped>\n",
       "    .dataframe tbody tr th:only-of-type {\n",
       "        vertical-align: middle;\n",
       "    }\n",
       "\n",
       "    .dataframe tbody tr th {\n",
       "        vertical-align: top;\n",
       "    }\n",
       "\n",
       "    .dataframe thead th {\n",
       "        text-align: right;\n",
       "    }\n",
       "</style>\n",
       "<table border=\"1\" class=\"dataframe\">\n",
       "  <thead>\n",
       "    <tr style=\"text-align: right;\">\n",
       "      <th></th>\n",
       "      <th>Rating</th>\n",
       "      <th>Size_in_Mega</th>\n",
       "      <th>Price</th>\n",
       "    </tr>\n",
       "  </thead>\n",
       "  <tbody>\n",
       "    <tr>\n",
       "      <th>count</th>\n",
       "      <td>10827.000000</td>\n",
       "      <td>9132.000000</td>\n",
       "      <td>10826.000000</td>\n",
       "    </tr>\n",
       "    <tr>\n",
       "      <th>mean</th>\n",
       "      <td>4.191800</td>\n",
       "      <td>21.527960</td>\n",
       "      <td>1.028697</td>\n",
       "    </tr>\n",
       "    <tr>\n",
       "      <th>std</th>\n",
       "      <td>0.500849</td>\n",
       "      <td>22.592321</td>\n",
       "      <td>15.959971</td>\n",
       "    </tr>\n",
       "    <tr>\n",
       "      <th>min</th>\n",
       "      <td>1.000000</td>\n",
       "      <td>0.010742</td>\n",
       "      <td>0.000000</td>\n",
       "    </tr>\n",
       "    <tr>\n",
       "      <th>25%</th>\n",
       "      <td>4.047411</td>\n",
       "      <td>4.900000</td>\n",
       "      <td>0.000000</td>\n",
       "    </tr>\n",
       "    <tr>\n",
       "      <th>50%</th>\n",
       "      <td>4.259664</td>\n",
       "      <td>13.000000</td>\n",
       "      <td>0.000000</td>\n",
       "    </tr>\n",
       "    <tr>\n",
       "      <th>75%</th>\n",
       "      <td>4.500000</td>\n",
       "      <td>30.000000</td>\n",
       "      <td>0.000000</td>\n",
       "    </tr>\n",
       "    <tr>\n",
       "      <th>max</th>\n",
       "      <td>19.000000</td>\n",
       "      <td>100.000000</td>\n",
       "      <td>400.000000</td>\n",
       "    </tr>\n",
       "  </tbody>\n",
       "</table>\n",
       "</div>"
      ],
      "text/plain": [
       "             Rating  Size_in_Mega         Price\n",
       "count  10827.000000   9132.000000  10826.000000\n",
       "mean       4.191800     21.527960      1.028697\n",
       "std        0.500849     22.592321     15.959971\n",
       "min        1.000000      0.010742      0.000000\n",
       "25%        4.047411      4.900000      0.000000\n",
       "50%        4.259664     13.000000      0.000000\n",
       "75%        4.500000     30.000000      0.000000\n",
       "max       19.000000    100.000000    400.000000"
      ]
     },
     "execution_count": 55,
     "metadata": {},
     "output_type": "execute_result"
    }
   ],
   "source": [
    "df.describe()"
   ]
  },
  {
   "cell_type": "markdown",
   "id": "043dbbc2-a8ea-4ecc-b910-91cbbe1a76d5",
   "metadata": {},
   "source": [
    "### Analytical Questions:"
   ]
  },
  {
   "cell_type": "markdown",
   "id": "d29d4924-e525-4333-9327-eac66a6d1233",
   "metadata": {},
   "source": [
    "### What is the most expensive app on the Play Store?"
   ]
  },
  {
   "cell_type": "code",
   "execution_count": 58,
   "id": "d7208eb3-6409-4732-9c52-443a9b59c17a",
   "metadata": {
    "scrolled": true
   },
   "outputs": [
    {
     "name": "stdout",
     "output_type": "stream",
     "text": [
      "\the most expensive app on the Play Store:\n",
      "                                 App   Price\n",
      "4367        I'm Rich - Trump Edition  400.00\n",
      "4197          most expensive app (H)  399.99\n",
      "4362                      💎 I'm rich  399.99\n",
      "5351                       I am rich  399.99\n",
      "5354                  I am Rich Plus  399.99\n",
      "5356               I Am Rich Premium  399.99\n",
      "5358                      I am Rich!  399.99\n",
      "5359              I am rich(premium)  399.99\n",
      "5362                   I Am Rich Pro  399.99\n",
      "5364  I am rich (Most expensive app)  399.99\n"
     ]
    }
   ],
   "source": [
    "df_most_expensive = df[df['Price'] > 0].nlargest(10, 'Price')\n",
    "print(\"\\the most expensive app on the Play Store:\")\n",
    "print(df_most_expensive[['App', 'Price']])\n"
   ]
  },
  {
   "cell_type": "code",
   "execution_count": 198,
   "id": "a3a13bbb-fc99-42d3-b2ca-c01b07f4a2bc",
   "metadata": {},
   "outputs": [
    {
     "data": {
      "image/png": "[encoded data removed]",
      "text/plain": [
       "<Figure size 600x600 with 1 Axes>"
      ]
     },
     "metadata": {},
     "output_type": "display_data"
    }
   ],
   "source": [
    "plt.figure(figsize=(6,6))\n",
    "plt.pie([most_expensive_app['Price'], df['Price'].max() - most_expensive_app['Price']], \n",
    "        labels=[most_expensive_app['App'], 'Others'], \n",
    "        autopct='%1.1f%%', colors=['red', 'gray'], startangle=90)\n",
    "plt.title('Most Expensive App on Play Store')\n",
    "plt.show()\n"
   ]
  },
  {
   "cell_type": "markdown",
   "id": "f059987b-cd46-43cd-9758-89fa86186642",
   "metadata": {},
   "source": [
    "### Which genre has the highest number of apps?"
   ]
  },
  {
   "cell_type": "code",
   "execution_count": 60,
   "id": "266cf255-2329-474d-b437-54269bec5bbd",
   "metadata": {},
   "outputs": [
    {
     "name": "stdout",
     "output_type": "stream",
     "text": [
      "The genre with the highest number of apps is: Tools with 839 apps.\n"
     ]
    }
   ],
   "source": [
    "most_common_genre = df[\"Genres\"].value_counts().idxmax()\n",
    "num_apps_in_genre = df[\"Genres\"].value_counts().max()\n",
    "\n",
    "print(f\"The genre with the highest number of apps is: {most_common_genre} with {num_apps_in_genre} apps.\")\n"
   ]
  },
  {
   "cell_type": "code",
   "execution_count": 200,
   "id": "37891418-a58a-47a3-80ba-df915d23d932",
   "metadata": {},
   "outputs": [
    {
     "name": "stderr",
     "output_type": "stream",
     "text": [
      "C:\\Users\\Hosopa\\AppData\\Local\\Temp\\ipykernel_18064\\2865565519.py:3: FutureWarning: \n",
      "\n",
      "Passing `palette` without assigning `hue` is deprecated and will be removed in v0.14.0. Assign the `x` variable to `hue` and set `legend=False` for the same effect.\n",
      "\n",
      "  sns.barplot(x=genre_counts.index[:10], y=genre_counts.values[:10], palette='viridis')\n"
     ]
    },
    {
     "data": {
      "image/png": "[encoded data removed]",
      "text/plain": [
       "<Figure size 1000x400 with 1 Axes>"
      ]
     },
     "metadata": {},
     "output_type": "display_data"
    }
   ],
   "source": [
    "genre_counts = df['Genres'].value_counts()\n",
    "plt.figure(figsize=(10, 4))\n",
    "sns.barplot(x=genre_counts.index[:10], y=genre_counts.values[:10], palette='viridis')\n",
    "plt.xticks(rotation=45)\n",
    "plt.xlabel('Genres')\n",
    "plt.ylabel('Number of Apps')\n",
    "plt.title('Top Genres by Number of Apps')\n",
    "plt.show()\n"
   ]
  },
  {
   "cell_type": "markdown",
   "id": "27ceede9-4e6e-402a-ac7f-404bfe952f24",
   "metadata": {},
   "source": [
    "### What is the average size of free vs. paid apps?"
   ]
  },
  {
   "cell_type": "code",
   "execution_count": 62,
   "id": "0b50735e-195b-4c67-aa34-057fdfbf752d",
   "metadata": {},
   "outputs": [
    {
     "name": "stdout",
     "output_type": "stream",
     "text": [
      "Average size of free apps: 21.72 MB\n",
      "Average size of paid apps: 19.31 MB\n"
     ]
    }
   ],
   "source": [
    "avg_size_free = df[df['Price'] == 0]['Size_in_Mega'].mean()\n",
    "avg_size_paid = df[df['Price'] > 0]['Size_in_Mega'].mean()\n",
    "\n",
    "print(f\"Average size of free apps: {avg_size_free:.2f} MB\")\n",
    "print(f\"Average size of paid apps: {avg_size_paid:.2f} MB\")\n"
   ]
  },
  {
   "cell_type": "code",
   "execution_count": 63,
   "id": "86479335-7da2-42f3-bd66-ffefbba17abd",
   "metadata": {},
   "outputs": [
    {
     "data": {
      "image/png": "[encoded data removed]",
      "text/plain": [
       "<Figure size 640x480 with 1 Axes>"
      ]
     },
     "metadata": {},
     "output_type": "display_data"
    }
   ],
   "source": [
    "labels = ['Free Apps', 'Paid Apps']\n",
    "sizes = [avg_size_free, avg_size_paid]\n",
    "\n",
    "plt.bar(labels, sizes, color=['blue', 'orange'])\n",
    "plt.ylabel('Average Size (MB)')\n",
    "plt.title('Comparison of Free vs Paid Apps Size')\n",
    "plt.show()"
   ]
  },
  {
   "cell_type": "markdown",
   "id": "a8fafff5-2d0b-4b21-a5ba-fbb3305e3904",
   "metadata": {},
   "source": [
    "### What are the top 5 most expensive apps with a perfect rating (5)?"
   ]
  },
  {
   "cell_type": "code",
   "execution_count": 117,
   "id": "2eb4a8bf-7ec8-4815-84b8-d5748e3c6ae5",
   "metadata": {},
   "outputs": [
    {
     "name": "stdout",
     "output_type": "stream",
     "text": [
      "                                            App Category  Price  Rating\n",
      "5489                  AP Art History Flashcards   FAMILY  29.99     5.0\n",
      "7477                 USMLE Step 2 CK Flashcards   FAMILY  19.99     5.0\n",
      "5246                      Hey AJ! It's Bedtime!   FAMILY   4.99     5.0\n",
      "5482                 meStudying: AP English Lit   FAMILY   4.99     5.0\n",
      "7204  TI-84 CE Graphing Calculator Manual TI 84   FAMILY   4.99     5.0\n"
     ]
    }
   ],
   "source": [
    "top_expensive_apps = df[df[\"Rating\"] == 5].nlargest(5, \"Price\")[[\"App\", \"Category\", \"Price\", \"Rating\"]]\n",
    "print(top_expensive_apps)\n"
   ]
  },
  {
   "cell_type": "code",
   "execution_count": 121,
   "id": "8714cc44-c973-4cdf-a969-f087a3faeae5",
   "metadata": {},
   "outputs": [
    {
     "name": "stderr",
     "output_type": "stream",
     "text": [
      "C:\\Users\\Hosopa\\AppData\\Local\\Temp\\ipykernel_18064\\3880177352.py:4: FutureWarning: \n",
      "\n",
      "Passing `palette` without assigning `hue` is deprecated and will be removed in v0.14.0. Assign the `y` variable to `hue` and set `legend=False` for the same effect.\n",
      "\n",
      "  sns.barplot(x=\"Price\", y=\"App\", data=top_expensive_apps, palette=\"viridis\")\n"
     ]
    },
    {
     "data": {
      "image/png": "[encoded data removed]",
      "text/plain": [
       "<Figure size 1000x600 with 1 Axes>"
      ]
     },
     "metadata": {},
     "output_type": "display_data"
    }
   ],
   "source": [
    "plt.figure(figsize=(10, 6))\n",
    "sns.barplot(x=\"Price\", y=\"App\", data=top_expensive_apps, palette=\"viridis\")\n",
    "plt.xlabel(\"Price ($)\")\n",
    "plt.ylabel(\"App Name\")\n",
    "plt.title(\"Top 5 Most Expensive Apps with a Perfect Rating (5)\")\n",
    "plt.show()"
   ]
  },
  {
   "cell_type": "markdown",
   "id": "3564cea6-d672-4df2-bee0-45ec813b11bf",
   "metadata": {},
   "source": [
    "### How many apps have received more than 50K reviews?"
   ]
  },
  {
   "cell_type": "code",
   "execution_count": 127,
   "id": "4b28dd94-59b5-42ec-b72d-13760b6a46e1",
   "metadata": {},
   "outputs": [],
   "source": [
    "df['Reviews'] = pd.to_numeric(df['Reviews'], errors='coerce')"
   ]
  },
  {
   "cell_type": "code",
   "execution_count": 129,
   "id": "72a1615b-d362-481b-a1bb-377f85ee46ee",
   "metadata": {},
   "outputs": [
    {
     "name": "stdout",
     "output_type": "stream",
     "text": [
      "Number of apps with more than 50K reviews: 2778\n"
     ]
    }
   ],
   "source": [
    "num_apps = df[df['Reviews'] > 50000].shape[0]\n",
    "print(\"Number of apps with more than 50K reviews:\", num_apps)\n"
   ]
  },
  {
   "cell_type": "code",
   "execution_count": 131,
   "id": "2b8021e8-ebaf-42ce-b607-fac8e18202c7",
   "metadata": {},
   "outputs": [
    {
     "data": {
      "image/png": "[encoded data removed]",
      "text/plain": [
       "<Figure size 640x480 with 1 Axes>"
      ]
     },
     "metadata": {},
     "output_type": "display_data"
    }
   ],
   "source": [
    "apps_above_50k = df[df['Reviews'] > 50000].shape[0]\n",
    "apps_below_50k = df[df['Reviews'] <= 50000].shape[0]\n",
    "\n",
    "sns.barplot(x=['> 50K Reviews', '<= 50K Reviews'], y=[apps_above_50k, apps_below_50k])\n",
    "plt.ylabel(\"Number of Apps\")\n",
    "plt.title(\"Apps with More than 50K Reviews vs Others\")\n",
    "plt.show()"
   ]
  },
  {
   "cell_type": "code",
   "execution_count": 137,
   "id": "551426e5-1d96-4ea7-9f79-5fa6063bb1cb",
   "metadata": {},
   "outputs": [],
   "source": [
    "df['Installs'] = df['Installs'].astype(str).str.replace(r'[+,]', '', regex=True).astype(float)\n"
   ]
  },
  {
   "cell_type": "markdown",
   "id": "80fe7a2d-539e-49fe-aa6c-6395091e83a1",
   "metadata": {},
   "source": [
    "### What is the average price of apps, grouped by genre and number of installs?"
   ]
  },
  {
   "cell_type": "code",
   "execution_count": 143,
   "id": "38e86ded-3991-4dfa-88a4-26f1f4622683",
   "metadata": {},
   "outputs": [
    {
     "name": "stdout",
     "output_type": "stream",
     "text": [
      "     Genres    Installs     Price\n",
      "0    Action        10.0  0.000000\n",
      "1    Action        50.0  0.663333\n",
      "2    Action       100.0  1.096000\n",
      "3    Action       500.0  0.000000\n",
      "4    Action      1000.0  0.372500\n",
      "..      ...         ...       ...\n",
      "916    Word    100000.0  0.000000\n",
      "917    Word   1000000.0  0.000000\n",
      "918    Word   5000000.0  0.000000\n",
      "919    Word  10000000.0  0.000000\n",
      "920    Word  50000000.0  0.000000\n",
      "\n",
      "[921 rows x 3 columns]\n"
     ]
    }
   ],
   "source": [
    "avg_price = df.groupby(['Genres', 'Installs'])['Price'].mean().reset_index()\n",
    "print(avg_price)"
   ]
  },
  {
   "cell_type": "code",
   "execution_count": 141,
   "id": "37ea49bf-d269-40e9-aefb-add8e4521959",
   "metadata": {},
   "outputs": [
    {
     "data": {
      "image/png": "[encoded data removed]",
      "text/plain": [
       "<Figure size 1200x600 with 1 Axes>"
      ]
     },
     "metadata": {},
     "output_type": "display_data"
    }
   ],
   "source": [
    "\n",
    "avg_price = df.groupby(['Genres', 'Installs'])['Price'].mean().reset_index()\n",
    "\n",
    "plt.figure(figsize=(12, 6))\n",
    "sns.scatterplot(data=avg_price, x='Installs', y='Price', hue='Genres', alpha=0.7)\n",
    "plt.xscale('log')\n",
    "plt.xlabel(\"Number of Installs (Log Scale)\")\n",
    "plt.ylabel(\"Average Price\")\n",
    "plt.title(\"Average Price of Apps by Genre and Number of Installs\")\n",
    "plt.legend([], [], frameon=False)  # إخفاء الليجند لو كان كبيرًا\n",
    "plt.show()\n"
   ]
  },
  {
   "cell_type": "markdown",
   "id": "8808c047-4b9f-4a36-af94-3ece62bd58f9",
   "metadata": {},
   "source": [
    "### How many apps have a rating higher than 4.7, and what is their average price?"
   ]
  },
  {
   "cell_type": "code",
   "execution_count": 152,
   "id": "5b82ccd6-5e3f-4c2e-94ab-80ba4a08adda",
   "metadata": {},
   "outputs": [
    {
     "name": "stdout",
     "output_type": "stream",
     "text": [
      "Number of apps: 596\n",
      "Average price: 0.50\n"
     ]
    }
   ],
   "source": [
    "filtered_apps = df[df['Rating'] > 4.7]\n",
    "num_apps = filtered_apps.shape[0]\n",
    "avg_price = filtered_apps['Price'].mean()\n",
    "\n",
    "print(f\"Number of apps: {num_apps}\")\n",
    "print(f\"Average price: {avg_price:.2f}\")\n"
   ]
  },
  {
   "cell_type": "code",
   "execution_count": 154,
   "id": "7a4d9315-ffc0-43a2-b367-218650cc5b6b",
   "metadata": {},
   "outputs": [
    {
     "data": {
      "image/png": "[encoded data removed]",
      "text/plain": [
       "<Figure size 800x500 with 1 Axes>"
      ]
     },
     "metadata": {},
     "output_type": "display_data"
    }
   ],
   "source": [
    "plt.figure(figsize=(8, 5))\n",
    "sns.histplot(filtered_apps['Price'], bins=20, kde=True)\n",
    "plt.xlabel('Price')\n",
    "plt.ylabel('Count')\n",
    "plt.title('Distribution of Prices for Apps with Rating > 4.7')\n",
    "plt.show()"
   ]
  },
  {
   "cell_type": "markdown",
   "id": "f80158de-fc12-4e57-847b-56195d8d7aec",
   "metadata": {},
   "source": [
    "### What is Google&#39;s estimated revenue from apps with 5,000,000+ installs?\n",
    "(Assuming Google takes a 30% cut from app sales)"
   ]
  },
  {
   "cell_type": "code",
   "execution_count": 157,
   "id": "9585f8c6-2d9c-4331-8ed0-b9b3e2adce72",
   "metadata": {},
   "outputs": [
    {
     "name": "stdout",
     "output_type": "stream",
     "text": [
      "Google's estimated revenue: $44,910,000.00\n"
     ]
    }
   ],
   "source": [
    "high_install_apps = df[df['Installs'] >= 5_000_000]\n",
    "total_revenue = (high_install_apps['Price'] * high_install_apps['Installs']).sum()\n",
    "google_revenue = total_revenue * 0.3  \n",
    "\n",
    "print(f\"Google's estimated revenue: ${google_revenue:,.2f}\")\n"
   ]
  },
  {
   "cell_type": "code",
   "execution_count": 159,
   "id": "70d783e3-1f31-4fe8-9310-dad1e74fc0d7",
   "metadata": {},
   "outputs": [
    {
     "data": {
      "image/png": "[encoded data removed]",
      "text/plain": [
       "<Figure size 800x500 with 1 Axes>"
      ]
     },
     "metadata": {},
     "output_type": "display_data"
    }
   ],
   "source": [
    "plt.figure(figsize=(8, 5))\n",
    "sns.barplot(x=high_install_apps['Category'], y=high_install_apps['Price'] * high_install_apps['Installs'])\n",
    "plt.xticks(rotation=90)\n",
    "plt.xlabel('Category')\n",
    "plt.ylabel('Revenue')\n",
    "plt.title(\"Google's Estimated Revenue by Category (5M+ Installs)\")\n",
    "plt.show()\n"
   ]
  },
  {
   "cell_type": "markdown",
   "id": "d47adfb4-76a2-4dca-b8e1-aee1d1bd0afe",
   "metadata": {},
   "source": [
    "### What are the maximum and minimum sizes of free vs. paid apps?"
   ]
  },
  {
   "cell_type": "code",
   "execution_count": 164,
   "id": "18b3ba32-dda7-4cee-9279-0b0dd2c21ee2",
   "metadata": {},
   "outputs": [
    {
     "name": "stdout",
     "output_type": "stream",
     "text": [
      "           min    max\n",
      "Type                 \n",
      "0          NaN    NaN\n",
      "Free  0.010742  100.0\n",
      "Paid  0.013672  100.0\n"
     ]
    }
   ],
   "source": [
    "size_stats = df.groupby('Type')['Size_in_Mega'].agg(['min', 'max'])\n",
    "print(size_stats)\n"
   ]
  },
  {
   "cell_type": "code",
   "execution_count": 166,
   "id": "9ad5b222-8e45-4b8d-a695-5484cf6476ea",
   "metadata": {},
   "outputs": [
    {
     "data": {
      "text/plain": [
       "<Figure size 600x400 with 0 Axes>"
      ]
     },
     "metadata": {},
     "output_type": "display_data"
    },
    {
     "data": {
      "image/png": "[encoded data removed]",
      "text/plain": [
       "<Figure size 800x500 with 1 Axes>"
      ]
     },
     "metadata": {},
     "output_type": "display_data"
    }
   ],
   "source": [
    "plt.figure(figsize=(6, 4))\n",
    "size_stats.plot(kind='bar', figsize=(8, 5), color=['blue', 'red'])\n",
    "plt.xlabel('App Type')\n",
    "plt.ylabel('Size (MB)')\n",
    "plt.title('Min & Max Sizes of Free vs. Paid Apps')\n",
    "plt.xticks(rotation=0)\n",
    "plt.legend(['Min Size', 'Max Size'])\n",
    "plt.show()\n"
   ]
  },
  {
   "cell_type": "markdown",
   "id": "84ebe7a1-ad1e-4e4c-b539-4b844d01f693",
   "metadata": {},
   "source": [
    "### Is there a correlation between an app’s rating, number of reviews, size, and its price?"
   ]
  },
  {
   "cell_type": "code",
   "execution_count": 173,
   "id": "e2761d1d-46e1-489b-876e-6ab1d4f281eb",
   "metadata": {},
   "outputs": [
    {
     "name": "stdout",
     "output_type": "stream",
     "text": [
      "                Rating   Reviews  Size_in_Mega     Price\n",
      "Rating        1.000000  0.068291      0.079434 -0.020388\n",
      "Reviews       0.068291  1.000000      0.238301 -0.009677\n",
      "Size_in_Mega  0.079434  0.238301      1.000000 -0.023056\n",
      "Price        -0.020388 -0.009677     -0.023056  1.000000\n"
     ]
    }
   ],
   "source": [
    "correlation_matrix = df[['Rating', 'Reviews', 'Size_in_Mega', 'Price']].corr()\n",
    "print(correlation_matrix)\n"
   ]
  },
  {
   "cell_type": "code",
   "execution_count": 175,
   "id": "ec011287-dab1-4036-8036-67e3414217eb",
   "metadata": {},
   "outputs": [
    {
     "data": {
      "image/png": "[encoded data removed]",
      "text/plain": [
       "<Figure size 800x600 with 2 Axes>"
      ]
     },
     "metadata": {},
     "output_type": "display_data"
    }
   ],
   "source": [
    "\n",
    "plt.figure(figsize=(8,6))\n",
    "sns.heatmap(correlation_matrix, annot=True, cmap='coolwarm', fmt=\".2f\")\n",
    "plt.title('Correlation Matrix of Rating, Reviews, Size_in_Mega, and Price')\n",
    "plt.show()\n"
   ]
  },
  {
   "cell_type": "markdown",
   "id": "55303438-2ebe-49aa-abb8-0cd692703a8a",
   "metadata": {},
   "source": [
    "### How many apps exist for each type (free/paid) across different content ratings?"
   ]
  },
  {
   "cell_type": "code",
   "execution_count": 178,
   "id": "4d7ca42e-6f5a-42b5-a893-999286ba63a1",
   "metadata": {},
   "outputs": [
    {
     "name": "stdout",
     "output_type": "stream",
     "text": [
      "Type               Free   Paid\n",
      "Content Rating                \n",
      "Adults only 18+     3.0    NaN\n",
      "Everyone         8005.0  695.0\n",
      "Everyone 10+      380.0   33.0\n",
      "Mature 17+        479.0   20.0\n",
      "Teen             1156.0   52.0\n",
      "Unrated             2.0    NaN\n"
     ]
    }
   ],
   "source": [
    "apps_count = df.groupby(['Content Rating', 'Type']).size().unstack()\n",
    "print(apps_count)\n"
   ]
  },
  {
   "cell_type": "code",
   "execution_count": 202,
   "id": "06cb7368-d285-40ca-9ad1-c71790b75db3",
   "metadata": {},
   "outputs": [
    {
     "data": {
      "image/png": "[encoded data removed]",
      "text/plain": [
       "<Figure size 1000x400 with 1 Axes>"
      ]
     },
     "metadata": {},
     "output_type": "display_data"
    }
   ],
   "source": [
    "apps_count.plot(kind='bar', stacked=True, figsize=(10,4))\n",
    "plt.title('Number of Free vs Paid Apps Across Content Ratings')\n",
    "plt.xlabel('Content Rating')\n",
    "plt.ylabel('Number of Apps')\n",
    "plt.legend(title='Type')\n",
    "plt.xticks(rotation=45)\n",
    "plt.show()\n"
   ]
  },
  {
   "cell_type": "markdown",
   "id": "8724a8c0-e7e3-425d-aaf6-deca08123156",
   "metadata": {},
   "source": [
    "### How many apps are compatible with Android version 4.x?"
   ]
  },
  {
   "cell_type": "code",
   "execution_count": 183,
   "id": "a64af4b7-1b23-441e-a442-57ad7f598efc",
   "metadata": {},
   "outputs": [
    {
     "name": "stdout",
     "output_type": "stream",
     "text": [
      "Number of apps compatible with Android 4.x: 8321\n"
     ]
    }
   ],
   "source": [
    "android_4x_apps = df[df['Android Ver'].str.startswith('4.')].shape[0]\n",
    "print(f'Number of apps compatible with Android 4.x: {android_4x_apps}')\n"
   ]
  },
  {
   "cell_type": "code",
   "execution_count": 185,
   "id": "3f0f1792-8098-48a9-ab5c-d698747a1e11",
   "metadata": {},
   "outputs": [
    {
     "data": {
      "image/png": "[encoded data removed]",
      "text/plain": [
       "<Figure size 600x600 with 1 Axes>"
      ]
     },
     "metadata": {},
     "output_type": "display_data"
    }
   ],
   "source": [
    "labels = ['Compatible', 'Not Compatible']\n",
    "sizes = [android_4x_apps, df.shape[0] - android_4x_apps]\n",
    "\n",
    "plt.figure(figsize=(6,6))\n",
    "plt.pie(sizes, labels=labels, autopct='%1.1f%%', colors=['skyblue', 'lightgray'], startangle=140)\n",
    "plt.title('Apps Compatible with Android 4.x')\n",
    "plt.show()\n"
   ]
  },
  {
   "cell_type": "code",
   "execution_count": null,
   "id": "7b73934c-d01d-4be5-b78d-b89ddb85b4d6",
   "metadata": {},
   "outputs": [],
   "source": []
  },
  {
   "cell_type": "code",
   "execution_count": null,
   "id": "97ab6311-a9e2-4ac3-9393-2a9e12aa6c6c",
   "metadata": {},
   "outputs": [],
   "source": []
  }
 ],
 "metadata": {
  "kernelspec": {
   "display_name": "Python 3 (ipykernel)",
   "language": "python",
   "name": "python3"
  },
  "language_info": {
   "codemirror_mode": {
    "name": "ipython",
    "version": 3
   },
   "file_extension": ".py",
   "mimetype": "text/x-python",
   "name": "python",
   "nbconvert_exporter": "python",
   "pygments_lexer": "ipython3",
   "version": "3.12.7"
  }
 },
 "nbformat": 4,
 "nbformat_minor": 5
}
